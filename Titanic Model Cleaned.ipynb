{
 "cells": [
  {
   "cell_type": "code",
   "execution_count": 1,
   "metadata": {
    "_cell_guid": "b309edb1-4d72-4c26-895d-0bb984225095",
    "_uuid": "c649493adf7346530ee02692e5409dfa5588c51d"
   },
   "outputs": [
    {
     "name": "stderr",
     "output_type": "stream",
     "text": [
      "D:\\Anaconda3\\lib\\site-packages\\sklearn\\cross_validation.py:41: DeprecationWarning: This module was deprecated in version 0.18 in favor of the model_selection module into which all the refactored classes and functions are moved. Also note that the interface of the new CV iterators are different from that of this module. This module will be removed in 0.20.\n",
      "  \"This module will be removed in 0.20.\", DeprecationWarning)\n"
     ]
    }
   ],
   "source": [
    "# This Python 3 environment comes with many helpful analytics libraries installed\n",
    "# It is defined by the kaggle/python docker image: https://github.com/kaggle/docker-python\n",
    "# For example, here's several helpful packages to load in \n",
    "\n",
    "import numpy as np # linear algebra\n",
    "import pandas as pd # data processing, CSV file I/O (e.g. pd.read_csv)\n",
    "\n",
    "# Input data files are available in the \"../input/\" directory.\n",
    "# For example, running this (by clicking run or pressing Shift+Enter) will list the files in the input directory\n",
    "\n",
    "#from subprocess import check_output\n",
    "#print(check_output([\"ls\", \"../input\"]).decode(\"utf8\"))\n",
    "\n",
    "import seaborn as sns # Good visualization library\n",
    "import matplotlib.pyplot as plt # Basic visualisation library\n",
    "%matplotlib inline\n",
    "\n",
    "from sklearn.preprocessing import LabelEncoder # For converting the objects into numbers\n",
    "from sklearn.model_selection import train_test_split, KFold, cross_val_score\n",
    "from sklearn.linear_model import LogisticRegression\n",
    "from sklearn.tree import DecisionTreeClassifier\n",
    "from sklearn.ensemble import RandomForestClassifier, ExtraTreesClassifier, AdaBoostClassifier, GradientBoostingClassifier\n",
    "from sklearn.neighbors import KNeighborsClassifier\n",
    "from sklearn.svm import SVC\n",
    "from sklearn.metrics import accuracy_score, confusion_matrix\n",
    "import xgboost\n",
    "# Any results you write to the current directory are saved as output."
   ]
  },
  {
   "cell_type": "code",
   "execution_count": 257,
   "metadata": {
    "_cell_guid": "4d13d911-0441-43e1-9e11-f3ebef8b4041",
    "_uuid": "4ff282a4cdcc9c190b41f6cb77b16c27fd4121dd",
    "collapsed": true
   },
   "outputs": [],
   "source": [
    "raw_train=pd.read_csv('D:/GitHub Repositories/Titanic_dataset_Kaggle/Kaggle-Titanic-Disaster-Dataset/train.csv', index_col = 'PassengerId')\n",
    "raw_test=pd.read_csv('../input/test.csv', index_col = 'PassengerId')"
   ]
  },
  {
   "cell_type": "code",
   "execution_count": 258,
   "metadata": {
    "_cell_guid": "4c770ef2-8430-49c5-bf56-905bb0a1143a",
    "_uuid": "19953a4bbcec3407f560f2bb51b798663582cbb8"
   },
   "outputs": [
    {
     "data": {
      "text/html": [
       "<div>\n",
       "<style>\n",
       "    .dataframe thead tr:only-child th {\n",
       "        text-align: right;\n",
       "    }\n",
       "\n",
       "    .dataframe thead th {\n",
       "        text-align: left;\n",
       "    }\n",
       "\n",
       "    .dataframe tbody tr th {\n",
       "        vertical-align: top;\n",
       "    }\n",
       "</style>\n",
       "<table border=\"1\" class=\"dataframe\">\n",
       "  <thead>\n",
       "    <tr style=\"text-align: right;\">\n",
       "      <th></th>\n",
       "      <th>Survived</th>\n",
       "      <th>Pclass</th>\n",
       "      <th>Name</th>\n",
       "      <th>Sex</th>\n",
       "      <th>Age</th>\n",
       "      <th>SibSp</th>\n",
       "      <th>Parch</th>\n",
       "      <th>Ticket</th>\n",
       "      <th>Fare</th>\n",
       "      <th>Cabin</th>\n",
       "      <th>Embarked</th>\n",
       "    </tr>\n",
       "    <tr>\n",
       "      <th>PassengerId</th>\n",
       "      <th></th>\n",
       "      <th></th>\n",
       "      <th></th>\n",
       "      <th></th>\n",
       "      <th></th>\n",
       "      <th></th>\n",
       "      <th></th>\n",
       "      <th></th>\n",
       "      <th></th>\n",
       "      <th></th>\n",
       "      <th></th>\n",
       "    </tr>\n",
       "  </thead>\n",
       "  <tbody>\n",
       "    <tr>\n",
       "      <th>1</th>\n",
       "      <td>0</td>\n",
       "      <td>3</td>\n",
       "      <td>Braund, Mr. Owen Harris</td>\n",
       "      <td>male</td>\n",
       "      <td>22.0</td>\n",
       "      <td>1</td>\n",
       "      <td>0</td>\n",
       "      <td>A/5 21171</td>\n",
       "      <td>7.2500</td>\n",
       "      <td>NaN</td>\n",
       "      <td>S</td>\n",
       "    </tr>\n",
       "    <tr>\n",
       "      <th>2</th>\n",
       "      <td>1</td>\n",
       "      <td>1</td>\n",
       "      <td>Cumings, Mrs. John Bradley (Florence Briggs Th...</td>\n",
       "      <td>female</td>\n",
       "      <td>38.0</td>\n",
       "      <td>1</td>\n",
       "      <td>0</td>\n",
       "      <td>PC 17599</td>\n",
       "      <td>71.2833</td>\n",
       "      <td>C85</td>\n",
       "      <td>C</td>\n",
       "    </tr>\n",
       "    <tr>\n",
       "      <th>3</th>\n",
       "      <td>1</td>\n",
       "      <td>3</td>\n",
       "      <td>Heikkinen, Miss. Laina</td>\n",
       "      <td>female</td>\n",
       "      <td>26.0</td>\n",
       "      <td>0</td>\n",
       "      <td>0</td>\n",
       "      <td>STON/O2. 3101282</td>\n",
       "      <td>7.9250</td>\n",
       "      <td>NaN</td>\n",
       "      <td>S</td>\n",
       "    </tr>\n",
       "    <tr>\n",
       "      <th>4</th>\n",
       "      <td>1</td>\n",
       "      <td>1</td>\n",
       "      <td>Futrelle, Mrs. Jacques Heath (Lily May Peel)</td>\n",
       "      <td>female</td>\n",
       "      <td>35.0</td>\n",
       "      <td>1</td>\n",
       "      <td>0</td>\n",
       "      <td>113803</td>\n",
       "      <td>53.1000</td>\n",
       "      <td>C123</td>\n",
       "      <td>S</td>\n",
       "    </tr>\n",
       "    <tr>\n",
       "      <th>5</th>\n",
       "      <td>0</td>\n",
       "      <td>3</td>\n",
       "      <td>Allen, Mr. William Henry</td>\n",
       "      <td>male</td>\n",
       "      <td>35.0</td>\n",
       "      <td>0</td>\n",
       "      <td>0</td>\n",
       "      <td>373450</td>\n",
       "      <td>8.0500</td>\n",
       "      <td>NaN</td>\n",
       "      <td>S</td>\n",
       "    </tr>\n",
       "  </tbody>\n",
       "</table>\n",
       "</div>"
      ],
      "text/plain": [
       "             Survived  Pclass  \\\n",
       "PassengerId                     \n",
       "1                   0       3   \n",
       "2                   1       1   \n",
       "3                   1       3   \n",
       "4                   1       1   \n",
       "5                   0       3   \n",
       "\n",
       "                                                          Name     Sex   Age  \\\n",
       "PassengerId                                                                    \n",
       "1                                      Braund, Mr. Owen Harris    male  22.0   \n",
       "2            Cumings, Mrs. John Bradley (Florence Briggs Th...  female  38.0   \n",
       "3                                       Heikkinen, Miss. Laina  female  26.0   \n",
       "4                 Futrelle, Mrs. Jacques Heath (Lily May Peel)  female  35.0   \n",
       "5                                     Allen, Mr. William Henry    male  35.0   \n",
       "\n",
       "             SibSp  Parch            Ticket     Fare Cabin Embarked  \n",
       "PassengerId                                                          \n",
       "1                1      0         A/5 21171   7.2500   NaN        S  \n",
       "2                1      0          PC 17599  71.2833   C85        C  \n",
       "3                0      0  STON/O2. 3101282   7.9250   NaN        S  \n",
       "4                1      0            113803  53.1000  C123        S  \n",
       "5                0      0            373450   8.0500   NaN        S  "
      ]
     },
     "execution_count": 258,
     "metadata": {},
     "output_type": "execute_result"
    }
   ],
   "source": [
    "raw_train.head()"
   ]
  },
  {
   "cell_type": "code",
   "execution_count": 259,
   "metadata": {
    "_cell_guid": "817a045a-7b37-4dfc-b23f-eee720f489f5",
    "_uuid": "47606a72f3573519c32a774fce0ea7cdc9d6e2be"
   },
   "outputs": [
    {
     "data": {
      "text/plain": [
       "(891, 11)"
      ]
     },
     "execution_count": 259,
     "metadata": {},
     "output_type": "execute_result"
    }
   ],
   "source": [
    "raw_train.shape"
   ]
  },
  {
   "cell_type": "code",
   "execution_count": 260,
   "metadata": {
    "_cell_guid": "fde4b813-0930-464e-9b09-4f0ad57c1be7",
    "_uuid": "cbe775c262d4dfabe71d52129819ad798028dbe1"
   },
   "outputs": [
    {
     "data": {
      "text/plain": [
       "Survived      int64\n",
       "Pclass        int64\n",
       "Name         object\n",
       "Sex          object\n",
       "Age         float64\n",
       "SibSp         int64\n",
       "Parch         int64\n",
       "Ticket       object\n",
       "Fare        float64\n",
       "Cabin        object\n",
       "Embarked     object\n",
       "dtype: object"
      ]
     },
     "execution_count": 260,
     "metadata": {},
     "output_type": "execute_result"
    }
   ],
   "source": [
    "raw_train.dtypes  # Finding the datatypes of the dataset"
   ]
  },
  {
   "cell_type": "code",
   "execution_count": 261,
   "metadata": {
    "_cell_guid": "38537f73-b7ee-43bf-ad2c-879422176e73",
    "_uuid": "843183944f0c5a085f7c83ab0b4d66eefd494e55"
   },
   "outputs": [
    {
     "data": {
      "text/plain": [
       "Survived      0\n",
       "Pclass        0\n",
       "Name          0\n",
       "Sex           0\n",
       "Age         177\n",
       "SibSp         0\n",
       "Parch         0\n",
       "Ticket        0\n",
       "Fare          0\n",
       "Cabin       687\n",
       "Embarked      2\n",
       "dtype: int64"
      ]
     },
     "execution_count": 261,
     "metadata": {},
     "output_type": "execute_result"
    }
   ],
   "source": [
    "raw_train.isnull().sum() # Finding the number of null values in the dataset"
   ]
  },
  {
   "cell_type": "code",
   "execution_count": 262,
   "metadata": {
    "_cell_guid": "e32f85c9-110c-420d-8e93-ea9ff08d93fd",
    "_uuid": "4f77b8eda89538742a7d24566b6ffe13baebda60",
    "collapsed": true
   },
   "outputs": [],
   "source": [
    "# Cleaning of dataframe given to us\n",
    "\n",
    "# Filling the null values of embarked columns with the mode\n",
    "def fill_embarked_na(df):\n",
    "    df['Embarked'].fillna(df['Embarked'].mode()[0], inplace= True)\n",
    "\n",
    "# Filling the null values of cabin column with the N    \n",
    "def fill_cabin_na(df):\n",
    "    df['Cabin'].fillna('No_Cabin'[0], inplace= True)\n",
    "        \n",
    "# Filling the age column with the median grouped by sex\n",
    "def fill_age_na(df):\n",
    "    df.loc[df.Age.isnull(), 'Age'] = df.groupby('Sex').Age.transform('median')\n",
    "        \n",
    "# Making a new column family members\n",
    "def family_members(df):\n",
    "    df['Family_members'] = df['Parch'] + df['SibSp'] + 1\n",
    "        \n",
    "def modify_sex_column(df):\n",
    "    df[\"Sex\"] = df[\"Sex\"].apply(lambda sex: 1 if sex == 'male' else 0)\n",
    "    \n",
    "def is_alone(df):\n",
    "    df['Is_alone'] = 0\n",
    "    df[\"Is_alone\"].loc[df['Family_members'] < 2] = 1\n",
    "    \n",
    "def has_cabin(df):\n",
    "    df['Has_cabin'] = 1\n",
    "    df[\"Has_cabin\"].loc[df[\"Cabin\"] != \"N\"] = 0"
   ]
  },
  {
   "cell_type": "code",
   "execution_count": 263,
   "metadata": {
    "_cell_guid": "9a488ad3-31af-4f19-9eef-9a6846dfdf93",
    "_uuid": "ca3d3c92a8cb1bdf9ba3c2a9fce347da27a50360"
   },
   "outputs": [
    {
     "name": "stderr",
     "output_type": "stream",
     "text": [
      "/opt/conda/lib/python3.6/site-packages/pandas/core/indexing.py:179: SettingWithCopyWarning: \n",
      "A value is trying to be set on a copy of a slice from a DataFrame\n",
      "\n",
      "See the caveats in the documentation: http://pandas.pydata.org/pandas-docs/stable/indexing.html#indexing-view-versus-copy\n",
      "  self._setitem_with_indexer(indexer, value)\n"
     ]
    }
   ],
   "source": [
    "# Calling all the functions made to clean the data\n",
    "\n",
    "fill_embarked_na(raw_train)\n",
    "fill_cabin_na(raw_train)\n",
    "fill_age_na(raw_train)\n",
    "family_members(raw_train)\n",
    "is_alone(raw_train)\n",
    "modify_sex_column(raw_train)\n",
    "has_cabin(raw_train)"
   ]
  },
  {
   "cell_type": "code",
   "execution_count": 264,
   "metadata": {
    "_cell_guid": "ddd61465-c707-4e1a-bd1c-c91c6feffa6d",
    "_uuid": "62ac1193023f655f7937c6dc0c5c20d1e1148b83"
   },
   "outputs": [
    {
     "data": {
      "text/plain": [
       "Survived          0\n",
       "Pclass            0\n",
       "Name              0\n",
       "Sex               0\n",
       "Age               0\n",
       "SibSp             0\n",
       "Parch             0\n",
       "Ticket            0\n",
       "Fare              0\n",
       "Cabin             0\n",
       "Embarked          0\n",
       "Family_members    0\n",
       "Is_alone          0\n",
       "Has_cabin         0\n",
       "dtype: int64"
      ]
     },
     "execution_count": 264,
     "metadata": {},
     "output_type": "execute_result"
    }
   ],
   "source": [
    "raw_train.isnull().sum()   # Checking the dataframe once more"
   ]
  },
  {
   "cell_type": "code",
   "execution_count": 265,
   "metadata": {
    "_cell_guid": "6ae603a6-9776-445d-8bae-f1c77a146631",
    "_uuid": "a4040fcefa4d50ec5e8bd3a9c95561b10398287e"
   },
   "outputs": [
    {
     "data": {
      "text/html": [
       "<div>\n",
       "<style>\n",
       "    .dataframe thead tr:only-child th {\n",
       "        text-align: right;\n",
       "    }\n",
       "\n",
       "    .dataframe thead th {\n",
       "        text-align: left;\n",
       "    }\n",
       "\n",
       "    .dataframe tbody tr th {\n",
       "        vertical-align: top;\n",
       "    }\n",
       "</style>\n",
       "<table border=\"1\" class=\"dataframe\">\n",
       "  <thead>\n",
       "    <tr style=\"text-align: right;\">\n",
       "      <th></th>\n",
       "      <th>Survived</th>\n",
       "      <th>Pclass</th>\n",
       "      <th>Name</th>\n",
       "      <th>Sex</th>\n",
       "      <th>Age</th>\n",
       "      <th>SibSp</th>\n",
       "      <th>Parch</th>\n",
       "      <th>Ticket</th>\n",
       "      <th>Fare</th>\n",
       "      <th>Cabin</th>\n",
       "      <th>Embarked</th>\n",
       "      <th>Family_members</th>\n",
       "      <th>Is_alone</th>\n",
       "      <th>Has_cabin</th>\n",
       "    </tr>\n",
       "    <tr>\n",
       "      <th>PassengerId</th>\n",
       "      <th></th>\n",
       "      <th></th>\n",
       "      <th></th>\n",
       "      <th></th>\n",
       "      <th></th>\n",
       "      <th></th>\n",
       "      <th></th>\n",
       "      <th></th>\n",
       "      <th></th>\n",
       "      <th></th>\n",
       "      <th></th>\n",
       "      <th></th>\n",
       "      <th></th>\n",
       "      <th></th>\n",
       "    </tr>\n",
       "  </thead>\n",
       "  <tbody>\n",
       "    <tr>\n",
       "      <th>1</th>\n",
       "      <td>0</td>\n",
       "      <td>3</td>\n",
       "      <td>Braund, Mr. Owen Harris</td>\n",
       "      <td>1</td>\n",
       "      <td>22.0</td>\n",
       "      <td>1</td>\n",
       "      <td>0</td>\n",
       "      <td>A/5 21171</td>\n",
       "      <td>7.2500</td>\n",
       "      <td>N</td>\n",
       "      <td>S</td>\n",
       "      <td>2</td>\n",
       "      <td>0</td>\n",
       "      <td>1</td>\n",
       "    </tr>\n",
       "    <tr>\n",
       "      <th>2</th>\n",
       "      <td>1</td>\n",
       "      <td>1</td>\n",
       "      <td>Cumings, Mrs. John Bradley (Florence Briggs Th...</td>\n",
       "      <td>0</td>\n",
       "      <td>38.0</td>\n",
       "      <td>1</td>\n",
       "      <td>0</td>\n",
       "      <td>PC 17599</td>\n",
       "      <td>71.2833</td>\n",
       "      <td>C85</td>\n",
       "      <td>C</td>\n",
       "      <td>2</td>\n",
       "      <td>0</td>\n",
       "      <td>0</td>\n",
       "    </tr>\n",
       "    <tr>\n",
       "      <th>3</th>\n",
       "      <td>1</td>\n",
       "      <td>3</td>\n",
       "      <td>Heikkinen, Miss. Laina</td>\n",
       "      <td>0</td>\n",
       "      <td>26.0</td>\n",
       "      <td>0</td>\n",
       "      <td>0</td>\n",
       "      <td>STON/O2. 3101282</td>\n",
       "      <td>7.9250</td>\n",
       "      <td>N</td>\n",
       "      <td>S</td>\n",
       "      <td>1</td>\n",
       "      <td>1</td>\n",
       "      <td>1</td>\n",
       "    </tr>\n",
       "    <tr>\n",
       "      <th>4</th>\n",
       "      <td>1</td>\n",
       "      <td>1</td>\n",
       "      <td>Futrelle, Mrs. Jacques Heath (Lily May Peel)</td>\n",
       "      <td>0</td>\n",
       "      <td>35.0</td>\n",
       "      <td>1</td>\n",
       "      <td>0</td>\n",
       "      <td>113803</td>\n",
       "      <td>53.1000</td>\n",
       "      <td>C123</td>\n",
       "      <td>S</td>\n",
       "      <td>2</td>\n",
       "      <td>0</td>\n",
       "      <td>0</td>\n",
       "    </tr>\n",
       "    <tr>\n",
       "      <th>5</th>\n",
       "      <td>0</td>\n",
       "      <td>3</td>\n",
       "      <td>Allen, Mr. William Henry</td>\n",
       "      <td>1</td>\n",
       "      <td>35.0</td>\n",
       "      <td>0</td>\n",
       "      <td>0</td>\n",
       "      <td>373450</td>\n",
       "      <td>8.0500</td>\n",
       "      <td>N</td>\n",
       "      <td>S</td>\n",
       "      <td>1</td>\n",
       "      <td>1</td>\n",
       "      <td>1</td>\n",
       "    </tr>\n",
       "  </tbody>\n",
       "</table>\n",
       "</div>"
      ],
      "text/plain": [
       "             Survived  Pclass  \\\n",
       "PassengerId                     \n",
       "1                   0       3   \n",
       "2                   1       1   \n",
       "3                   1       3   \n",
       "4                   1       1   \n",
       "5                   0       3   \n",
       "\n",
       "                                                          Name  Sex   Age  \\\n",
       "PassengerId                                                                 \n",
       "1                                      Braund, Mr. Owen Harris    1  22.0   \n",
       "2            Cumings, Mrs. John Bradley (Florence Briggs Th...    0  38.0   \n",
       "3                                       Heikkinen, Miss. Laina    0  26.0   \n",
       "4                 Futrelle, Mrs. Jacques Heath (Lily May Peel)    0  35.0   \n",
       "5                                     Allen, Mr. William Henry    1  35.0   \n",
       "\n",
       "             SibSp  Parch            Ticket     Fare Cabin Embarked  \\\n",
       "PassengerId                                                           \n",
       "1                1      0         A/5 21171   7.2500     N        S   \n",
       "2                1      0          PC 17599  71.2833   C85        C   \n",
       "3                0      0  STON/O2. 3101282   7.9250     N        S   \n",
       "4                1      0            113803  53.1000  C123        S   \n",
       "5                0      0            373450   8.0500     N        S   \n",
       "\n",
       "             Family_members  Is_alone  Has_cabin  \n",
       "PassengerId                                       \n",
       "1                         2         0          1  \n",
       "2                         2         0          0  \n",
       "3                         1         1          1  \n",
       "4                         2         0          0  \n",
       "5                         1         1          1  "
      ]
     },
     "execution_count": 265,
     "metadata": {},
     "output_type": "execute_result"
    }
   ],
   "source": [
    "raw_train.head()"
   ]
  },
  {
   "cell_type": "code",
   "execution_count": 266,
   "metadata": {
    "_cell_guid": "a59fb955-9a18-4d13-8002-c692ccbbe1ae",
    "_uuid": "b50c041c7b1174ec39d420f4b419607e7360fa0d",
    "collapsed": true
   },
   "outputs": [],
   "source": [
    "name = raw_train.Name\n",
    "def include_title(name):\n",
    "    if '.' in name:\n",
    "        return name.split(',')[1].split('.')[0].strip()\n",
    "    else:\n",
    "        return 'Unknown'\n",
    "titles = sorted(set([x for x in raw_train.Name.map(lambda x: include_title(x))]))\n",
    "\n",
    "def replace_titles(x):\n",
    "    title = x['Title']\n",
    "    if title in ['Capt', 'Col', 'Don', 'Jonkheer', 'Major', 'Rev', 'Sir']:\n",
    "        return 'Mr'\n",
    "    elif title in ['the Countess', 'Mme', 'Lady']:\n",
    "        return 'Mrs'\n",
    "    elif title in ['Mlle', 'Ms']:\n",
    "        return 'Miss'\n",
    "    elif title =='Dr':\n",
    "        if x['Sex']=='male':\n",
    "            return 'Mr'\n",
    "        else:\n",
    "            return 'Mrs'\n",
    "    else:\n",
    "        return title\n",
    "raw_train['Title'] = raw_train['Name'].map(lambda x: include_title(x))"
   ]
  },
  {
   "cell_type": "code",
   "execution_count": 267,
   "metadata": {
    "_cell_guid": "a4ee16b7-d317-464d-a8c4-113360494609",
    "_uuid": "f95c6d260299e1638ec600a5851a1d56767b9ba8",
    "collapsed": true
   },
   "outputs": [],
   "source": [
    "raw_train['Title'] = raw_train.apply(replace_titles, axis=1)"
   ]
  },
  {
   "cell_type": "code",
   "execution_count": 268,
   "metadata": {
    "_cell_guid": "d537af55-dc6f-4c15-ad06-85f12c69f703",
    "_uuid": "6ad094817490bc674912a811bbb031bd5da412d6"
   },
   "outputs": [
    {
     "data": {
      "text/html": [
       "<div>\n",
       "<style>\n",
       "    .dataframe thead tr:only-child th {\n",
       "        text-align: right;\n",
       "    }\n",
       "\n",
       "    .dataframe thead th {\n",
       "        text-align: left;\n",
       "    }\n",
       "\n",
       "    .dataframe tbody tr th {\n",
       "        vertical-align: top;\n",
       "    }\n",
       "</style>\n",
       "<table border=\"1\" class=\"dataframe\">\n",
       "  <thead>\n",
       "    <tr style=\"text-align: right;\">\n",
       "      <th></th>\n",
       "      <th>Survived</th>\n",
       "      <th>Pclass</th>\n",
       "      <th>Name</th>\n",
       "      <th>Sex</th>\n",
       "      <th>Age</th>\n",
       "      <th>SibSp</th>\n",
       "      <th>Parch</th>\n",
       "      <th>Ticket</th>\n",
       "      <th>Fare</th>\n",
       "      <th>Cabin</th>\n",
       "      <th>Embarked</th>\n",
       "      <th>Family_members</th>\n",
       "      <th>Is_alone</th>\n",
       "      <th>Has_cabin</th>\n",
       "      <th>Title</th>\n",
       "    </tr>\n",
       "    <tr>\n",
       "      <th>PassengerId</th>\n",
       "      <th></th>\n",
       "      <th></th>\n",
       "      <th></th>\n",
       "      <th></th>\n",
       "      <th></th>\n",
       "      <th></th>\n",
       "      <th></th>\n",
       "      <th></th>\n",
       "      <th></th>\n",
       "      <th></th>\n",
       "      <th></th>\n",
       "      <th></th>\n",
       "      <th></th>\n",
       "      <th></th>\n",
       "      <th></th>\n",
       "    </tr>\n",
       "  </thead>\n",
       "  <tbody>\n",
       "    <tr>\n",
       "      <th>1</th>\n",
       "      <td>0</td>\n",
       "      <td>3</td>\n",
       "      <td>Braund, Mr. Owen Harris</td>\n",
       "      <td>1</td>\n",
       "      <td>22.0</td>\n",
       "      <td>1</td>\n",
       "      <td>0</td>\n",
       "      <td>A/5 21171</td>\n",
       "      <td>7.2500</td>\n",
       "      <td>N</td>\n",
       "      <td>S</td>\n",
       "      <td>2</td>\n",
       "      <td>0</td>\n",
       "      <td>1</td>\n",
       "      <td>Mr</td>\n",
       "    </tr>\n",
       "    <tr>\n",
       "      <th>2</th>\n",
       "      <td>1</td>\n",
       "      <td>1</td>\n",
       "      <td>Cumings, Mrs. John Bradley (Florence Briggs Th...</td>\n",
       "      <td>0</td>\n",
       "      <td>38.0</td>\n",
       "      <td>1</td>\n",
       "      <td>0</td>\n",
       "      <td>PC 17599</td>\n",
       "      <td>71.2833</td>\n",
       "      <td>C85</td>\n",
       "      <td>C</td>\n",
       "      <td>2</td>\n",
       "      <td>0</td>\n",
       "      <td>0</td>\n",
       "      <td>Mrs</td>\n",
       "    </tr>\n",
       "    <tr>\n",
       "      <th>3</th>\n",
       "      <td>1</td>\n",
       "      <td>3</td>\n",
       "      <td>Heikkinen, Miss. Laina</td>\n",
       "      <td>0</td>\n",
       "      <td>26.0</td>\n",
       "      <td>0</td>\n",
       "      <td>0</td>\n",
       "      <td>STON/O2. 3101282</td>\n",
       "      <td>7.9250</td>\n",
       "      <td>N</td>\n",
       "      <td>S</td>\n",
       "      <td>1</td>\n",
       "      <td>1</td>\n",
       "      <td>1</td>\n",
       "      <td>Miss</td>\n",
       "    </tr>\n",
       "    <tr>\n",
       "      <th>4</th>\n",
       "      <td>1</td>\n",
       "      <td>1</td>\n",
       "      <td>Futrelle, Mrs. Jacques Heath (Lily May Peel)</td>\n",
       "      <td>0</td>\n",
       "      <td>35.0</td>\n",
       "      <td>1</td>\n",
       "      <td>0</td>\n",
       "      <td>113803</td>\n",
       "      <td>53.1000</td>\n",
       "      <td>C123</td>\n",
       "      <td>S</td>\n",
       "      <td>2</td>\n",
       "      <td>0</td>\n",
       "      <td>0</td>\n",
       "      <td>Mrs</td>\n",
       "    </tr>\n",
       "    <tr>\n",
       "      <th>5</th>\n",
       "      <td>0</td>\n",
       "      <td>3</td>\n",
       "      <td>Allen, Mr. William Henry</td>\n",
       "      <td>1</td>\n",
       "      <td>35.0</td>\n",
       "      <td>0</td>\n",
       "      <td>0</td>\n",
       "      <td>373450</td>\n",
       "      <td>8.0500</td>\n",
       "      <td>N</td>\n",
       "      <td>S</td>\n",
       "      <td>1</td>\n",
       "      <td>1</td>\n",
       "      <td>1</td>\n",
       "      <td>Mr</td>\n",
       "    </tr>\n",
       "  </tbody>\n",
       "</table>\n",
       "</div>"
      ],
      "text/plain": [
       "             Survived  Pclass  \\\n",
       "PassengerId                     \n",
       "1                   0       3   \n",
       "2                   1       1   \n",
       "3                   1       3   \n",
       "4                   1       1   \n",
       "5                   0       3   \n",
       "\n",
       "                                                          Name  Sex   Age  \\\n",
       "PassengerId                                                                 \n",
       "1                                      Braund, Mr. Owen Harris    1  22.0   \n",
       "2            Cumings, Mrs. John Bradley (Florence Briggs Th...    0  38.0   \n",
       "3                                       Heikkinen, Miss. Laina    0  26.0   \n",
       "4                 Futrelle, Mrs. Jacques Heath (Lily May Peel)    0  35.0   \n",
       "5                                     Allen, Mr. William Henry    1  35.0   \n",
       "\n",
       "             SibSp  Parch            Ticket     Fare Cabin Embarked  \\\n",
       "PassengerId                                                           \n",
       "1                1      0         A/5 21171   7.2500     N        S   \n",
       "2                1      0          PC 17599  71.2833   C85        C   \n",
       "3                0      0  STON/O2. 3101282   7.9250     N        S   \n",
       "4                1      0            113803  53.1000  C123        S   \n",
       "5                0      0            373450   8.0500     N        S   \n",
       "\n",
       "             Family_members  Is_alone  Has_cabin Title  \n",
       "PassengerId                                             \n",
       "1                         2         0          1    Mr  \n",
       "2                         2         0          0   Mrs  \n",
       "3                         1         1          1  Miss  \n",
       "4                         2         0          0   Mrs  \n",
       "5                         1         1          1    Mr  "
      ]
     },
     "execution_count": 268,
     "metadata": {},
     "output_type": "execute_result"
    }
   ],
   "source": [
    "raw_train.head()"
   ]
  },
  {
   "cell_type": "code",
   "execution_count": 269,
   "metadata": {
    "_cell_guid": "bb39837e-e1fa-48ac-a71e-3688c744e0f1",
    "_uuid": "84b13889da2f0d2362eb44bef6908aa20024276c"
   },
   "outputs": [
    {
     "data": {
      "text/plain": [
       "array(['Mr', 'Mrs', 'Miss', 'Master'], dtype=object)"
      ]
     },
     "execution_count": 269,
     "metadata": {},
     "output_type": "execute_result"
    }
   ],
   "source": [
    "raw_train.Title.unique()"
   ]
  },
  {
   "cell_type": "code",
   "execution_count": 270,
   "metadata": {
    "_cell_guid": "f57dc1a9-cf8a-4a52-bba2-e80e5bb555db",
    "_uuid": "9f063e7932ddd8fe5971dd5a8af044dab9c267ad"
   },
   "outputs": [
    {
     "data": {
      "text/plain": [
       "Survived            int64\n",
       "Pclass              int64\n",
       "Name               object\n",
       "Sex                 int64\n",
       "Age               float64\n",
       "SibSp               int64\n",
       "Parch               int64\n",
       "Ticket             object\n",
       "Fare              float64\n",
       "Cabin              object\n",
       "Embarked           object\n",
       "Family_members      int64\n",
       "Is_alone            int64\n",
       "Has_cabin           int64\n",
       "Title              object\n",
       "dtype: object"
      ]
     },
     "execution_count": 270,
     "metadata": {},
     "output_type": "execute_result"
    }
   ],
   "source": [
    "raw_train.dtypes"
   ]
  },
  {
   "cell_type": "code",
   "execution_count": 271,
   "metadata": {
    "_cell_guid": "62a2317f-6a5c-4527-b2a1-e6d9e30dab91",
    "_uuid": "5f09b5347cc0ea722b189699100fbd92421597de"
   },
   "outputs": [
    {
     "data": {
      "text/plain": [
       "Index(['Survived', 'Pclass', 'Sex', 'Age', 'Fare', 'Embarked',\n",
       "       'Family_members', 'Is_alone', 'Has_cabin', 'Title'],\n",
       "      dtype='object')"
      ]
     },
     "execution_count": 271,
     "metadata": {},
     "output_type": "execute_result"
    }
   ],
   "source": [
    "raw_train.drop(['Name', 'Ticket', 'Cabin', 'SibSp', 'Parch'], axis = 1, inplace = True)\n",
    "x = raw_train.columns\n",
    "x"
   ]
  },
  {
   "cell_type": "code",
   "execution_count": 272,
   "metadata": {
    "_cell_guid": "0d5b2f00-a256-45c6-8bf6-e4c93275292b",
    "_uuid": "3940a68f596d89af4f4cbe0340462177acc7fd45",
    "collapsed": true
   },
   "outputs": [],
   "source": [
    "# Label Encoding\n",
    "le = LabelEncoder()\n",
    "\n",
    "def label_encoding(df):\n",
    "    df[\"Embarked\"] = le.fit_transform(df[\"Embarked\"])\n",
    "    df[\"Title\"] = le.fit_transform(df[\"Title\"])"
   ]
  },
  {
   "cell_type": "code",
   "execution_count": 273,
   "metadata": {
    "_cell_guid": "137886e3-1178-4cc7-9696-475b5161efaa",
    "_uuid": "e795089dd7e5b154dcfd5c84f5095a7393790613",
    "collapsed": true
   },
   "outputs": [],
   "source": [
    "label_train = raw_train"
   ]
  },
  {
   "cell_type": "code",
   "execution_count": 274,
   "metadata": {
    "_cell_guid": "2b4ae794-eab6-4385-abb8-bb9e0287e4a9",
    "_uuid": "827c6f5a89f1cdd710922879634f414055a83c31"
   },
   "outputs": [
    {
     "data": {
      "text/html": [
       "<div>\n",
       "<style>\n",
       "    .dataframe thead tr:only-child th {\n",
       "        text-align: right;\n",
       "    }\n",
       "\n",
       "    .dataframe thead th {\n",
       "        text-align: left;\n",
       "    }\n",
       "\n",
       "    .dataframe tbody tr th {\n",
       "        vertical-align: top;\n",
       "    }\n",
       "</style>\n",
       "<table border=\"1\" class=\"dataframe\">\n",
       "  <thead>\n",
       "    <tr style=\"text-align: right;\">\n",
       "      <th></th>\n",
       "      <th>Pclass</th>\n",
       "      <th>Name</th>\n",
       "      <th>Sex</th>\n",
       "      <th>Age</th>\n",
       "      <th>SibSp</th>\n",
       "      <th>Parch</th>\n",
       "      <th>Ticket</th>\n",
       "      <th>Fare</th>\n",
       "      <th>Cabin</th>\n",
       "      <th>Embarked</th>\n",
       "    </tr>\n",
       "    <tr>\n",
       "      <th>PassengerId</th>\n",
       "      <th></th>\n",
       "      <th></th>\n",
       "      <th></th>\n",
       "      <th></th>\n",
       "      <th></th>\n",
       "      <th></th>\n",
       "      <th></th>\n",
       "      <th></th>\n",
       "      <th></th>\n",
       "      <th></th>\n",
       "    </tr>\n",
       "  </thead>\n",
       "  <tbody>\n",
       "    <tr>\n",
       "      <th>892</th>\n",
       "      <td>3</td>\n",
       "      <td>Kelly, Mr. James</td>\n",
       "      <td>male</td>\n",
       "      <td>34.5</td>\n",
       "      <td>0</td>\n",
       "      <td>0</td>\n",
       "      <td>330911</td>\n",
       "      <td>7.8292</td>\n",
       "      <td>NaN</td>\n",
       "      <td>Q</td>\n",
       "    </tr>\n",
       "    <tr>\n",
       "      <th>893</th>\n",
       "      <td>3</td>\n",
       "      <td>Wilkes, Mrs. James (Ellen Needs)</td>\n",
       "      <td>female</td>\n",
       "      <td>47.0</td>\n",
       "      <td>1</td>\n",
       "      <td>0</td>\n",
       "      <td>363272</td>\n",
       "      <td>7.0000</td>\n",
       "      <td>NaN</td>\n",
       "      <td>S</td>\n",
       "    </tr>\n",
       "    <tr>\n",
       "      <th>894</th>\n",
       "      <td>2</td>\n",
       "      <td>Myles, Mr. Thomas Francis</td>\n",
       "      <td>male</td>\n",
       "      <td>62.0</td>\n",
       "      <td>0</td>\n",
       "      <td>0</td>\n",
       "      <td>240276</td>\n",
       "      <td>9.6875</td>\n",
       "      <td>NaN</td>\n",
       "      <td>Q</td>\n",
       "    </tr>\n",
       "    <tr>\n",
       "      <th>895</th>\n",
       "      <td>3</td>\n",
       "      <td>Wirz, Mr. Albert</td>\n",
       "      <td>male</td>\n",
       "      <td>27.0</td>\n",
       "      <td>0</td>\n",
       "      <td>0</td>\n",
       "      <td>315154</td>\n",
       "      <td>8.6625</td>\n",
       "      <td>NaN</td>\n",
       "      <td>S</td>\n",
       "    </tr>\n",
       "    <tr>\n",
       "      <th>896</th>\n",
       "      <td>3</td>\n",
       "      <td>Hirvonen, Mrs. Alexander (Helga E Lindqvist)</td>\n",
       "      <td>female</td>\n",
       "      <td>22.0</td>\n",
       "      <td>1</td>\n",
       "      <td>1</td>\n",
       "      <td>3101298</td>\n",
       "      <td>12.2875</td>\n",
       "      <td>NaN</td>\n",
       "      <td>S</td>\n",
       "    </tr>\n",
       "  </tbody>\n",
       "</table>\n",
       "</div>"
      ],
      "text/plain": [
       "             Pclass                                          Name     Sex  \\\n",
       "PassengerId                                                                 \n",
       "892               3                              Kelly, Mr. James    male   \n",
       "893               3              Wilkes, Mrs. James (Ellen Needs)  female   \n",
       "894               2                     Myles, Mr. Thomas Francis    male   \n",
       "895               3                              Wirz, Mr. Albert    male   \n",
       "896               3  Hirvonen, Mrs. Alexander (Helga E Lindqvist)  female   \n",
       "\n",
       "              Age  SibSp  Parch   Ticket     Fare Cabin Embarked  \n",
       "PassengerId                                                       \n",
       "892          34.5      0      0   330911   7.8292   NaN        Q  \n",
       "893          47.0      1      0   363272   7.0000   NaN        S  \n",
       "894          62.0      0      0   240276   9.6875   NaN        Q  \n",
       "895          27.0      0      0   315154   8.6625   NaN        S  \n",
       "896          22.0      1      1  3101298  12.2875   NaN        S  "
      ]
     },
     "execution_count": 274,
     "metadata": {},
     "output_type": "execute_result"
    }
   ],
   "source": [
    "raw_test.head()"
   ]
  },
  {
   "cell_type": "code",
   "execution_count": 275,
   "metadata": {
    "_cell_guid": "61882bed-765f-46eb-bde6-c76a382e3d2a",
    "_uuid": "2c9d05ecf9f3b2d64ca31b611ce6df04fbe11a1d"
   },
   "outputs": [
    {
     "data": {
      "text/plain": [
       "Pclass        0\n",
       "Name          0\n",
       "Sex           0\n",
       "Age          86\n",
       "SibSp         0\n",
       "Parch         0\n",
       "Ticket        0\n",
       "Fare          1\n",
       "Cabin       327\n",
       "Embarked      0\n",
       "dtype: int64"
      ]
     },
     "execution_count": 275,
     "metadata": {},
     "output_type": "execute_result"
    }
   ],
   "source": [
    "raw_test.isnull().sum()"
   ]
  },
  {
   "cell_type": "code",
   "execution_count": 276,
   "metadata": {
    "_cell_guid": "799ce678-3102-4f19-92d0-32e8d206c5c2",
    "_uuid": "db6ea67d8981cb9f0c1e30ebe5fa26090fe281ba"
   },
   "outputs": [
    {
     "name": "stderr",
     "output_type": "stream",
     "text": [
      "/opt/conda/lib/python3.6/site-packages/pandas/core/indexing.py:179: SettingWithCopyWarning: \n",
      "A value is trying to be set on a copy of a slice from a DataFrame\n",
      "\n",
      "See the caveats in the documentation: http://pandas.pydata.org/pandas-docs/stable/indexing.html#indexing-view-versus-copy\n",
      "  self._setitem_with_indexer(indexer, value)\n"
     ]
    }
   ],
   "source": [
    "# Calling all the functions made to clean the test data\n",
    "\n",
    "fill_embarked_na(raw_test)\n",
    "fill_cabin_na(raw_test)\n",
    "fill_age_na(raw_test)\n",
    "family_members(raw_test)\n",
    "is_alone(raw_test)\n",
    "modify_sex_column(raw_test)\n",
    "has_cabin(raw_test)\n",
    "#raw_test['Title'] = raw_test.apply(replace_titles, axis=1)"
   ]
  },
  {
   "cell_type": "code",
   "execution_count": 277,
   "metadata": {
    "_cell_guid": "67fc212b-056d-4ffe-9e5f-a427f9e22511",
    "_uuid": "62a07660647c99f8a5cb9782b81ee409a0db71ce",
    "collapsed": true
   },
   "outputs": [],
   "source": [
    "name = raw_test.Name\n",
    "titles = sorted(set([x for x in raw_test.Name.map(lambda x: include_title(x))]))\n",
    "raw_test['Title'] = raw_test['Name'].map(lambda x: include_title(x))\n",
    "raw_test['Title'] = raw_test.apply(replace_titles, axis=1)"
   ]
  },
  {
   "cell_type": "code",
   "execution_count": 278,
   "metadata": {
    "_cell_guid": "d61591e6-560d-4c3f-89e3-cd612dafd248",
    "_uuid": "613c2f8abdff8e54868f91b2c67a4ced0b8db197"
   },
   "outputs": [
    {
     "data": {
      "text/html": [
       "<div>\n",
       "<style>\n",
       "    .dataframe thead tr:only-child th {\n",
       "        text-align: right;\n",
       "    }\n",
       "\n",
       "    .dataframe thead th {\n",
       "        text-align: left;\n",
       "    }\n",
       "\n",
       "    .dataframe tbody tr th {\n",
       "        vertical-align: top;\n",
       "    }\n",
       "</style>\n",
       "<table border=\"1\" class=\"dataframe\">\n",
       "  <thead>\n",
       "    <tr style=\"text-align: right;\">\n",
       "      <th></th>\n",
       "      <th>Survived</th>\n",
       "      <th>Pclass</th>\n",
       "      <th>Sex</th>\n",
       "      <th>Age</th>\n",
       "      <th>Fare</th>\n",
       "      <th>Embarked</th>\n",
       "      <th>Family_members</th>\n",
       "      <th>Is_alone</th>\n",
       "      <th>Has_cabin</th>\n",
       "      <th>Title</th>\n",
       "    </tr>\n",
       "    <tr>\n",
       "      <th>PassengerId</th>\n",
       "      <th></th>\n",
       "      <th></th>\n",
       "      <th></th>\n",
       "      <th></th>\n",
       "      <th></th>\n",
       "      <th></th>\n",
       "      <th></th>\n",
       "      <th></th>\n",
       "      <th></th>\n",
       "      <th></th>\n",
       "    </tr>\n",
       "  </thead>\n",
       "  <tbody>\n",
       "    <tr>\n",
       "      <th>1</th>\n",
       "      <td>0</td>\n",
       "      <td>3</td>\n",
       "      <td>1</td>\n",
       "      <td>22.0</td>\n",
       "      <td>7.2500</td>\n",
       "      <td>2</td>\n",
       "      <td>2</td>\n",
       "      <td>0</td>\n",
       "      <td>1</td>\n",
       "      <td>2</td>\n",
       "    </tr>\n",
       "    <tr>\n",
       "      <th>2</th>\n",
       "      <td>1</td>\n",
       "      <td>1</td>\n",
       "      <td>0</td>\n",
       "      <td>38.0</td>\n",
       "      <td>71.2833</td>\n",
       "      <td>0</td>\n",
       "      <td>2</td>\n",
       "      <td>0</td>\n",
       "      <td>0</td>\n",
       "      <td>3</td>\n",
       "    </tr>\n",
       "    <tr>\n",
       "      <th>3</th>\n",
       "      <td>1</td>\n",
       "      <td>3</td>\n",
       "      <td>0</td>\n",
       "      <td>26.0</td>\n",
       "      <td>7.9250</td>\n",
       "      <td>2</td>\n",
       "      <td>1</td>\n",
       "      <td>1</td>\n",
       "      <td>1</td>\n",
       "      <td>1</td>\n",
       "    </tr>\n",
       "    <tr>\n",
       "      <th>4</th>\n",
       "      <td>1</td>\n",
       "      <td>1</td>\n",
       "      <td>0</td>\n",
       "      <td>35.0</td>\n",
       "      <td>53.1000</td>\n",
       "      <td>2</td>\n",
       "      <td>2</td>\n",
       "      <td>0</td>\n",
       "      <td>0</td>\n",
       "      <td>3</td>\n",
       "    </tr>\n",
       "    <tr>\n",
       "      <th>5</th>\n",
       "      <td>0</td>\n",
       "      <td>3</td>\n",
       "      <td>1</td>\n",
       "      <td>35.0</td>\n",
       "      <td>8.0500</td>\n",
       "      <td>2</td>\n",
       "      <td>1</td>\n",
       "      <td>1</td>\n",
       "      <td>1</td>\n",
       "      <td>2</td>\n",
       "    </tr>\n",
       "  </tbody>\n",
       "</table>\n",
       "</div>"
      ],
      "text/plain": [
       "             Survived  Pclass  Sex   Age     Fare  Embarked  Family_members  \\\n",
       "PassengerId                                                                   \n",
       "1                   0       3    1  22.0   7.2500         2               2   \n",
       "2                   1       1    0  38.0  71.2833         0               2   \n",
       "3                   1       3    0  26.0   7.9250         2               1   \n",
       "4                   1       1    0  35.0  53.1000         2               2   \n",
       "5                   0       3    1  35.0   8.0500         2               1   \n",
       "\n",
       "             Is_alone  Has_cabin  Title  \n",
       "PassengerId                              \n",
       "1                   0          1      2  \n",
       "2                   0          0      3  \n",
       "3                   1          1      1  \n",
       "4                   0          0      3  \n",
       "5                   1          1      2  "
      ]
     },
     "execution_count": 278,
     "metadata": {},
     "output_type": "execute_result"
    }
   ],
   "source": [
    "label_encoding(label_train)\n",
    "label_train.head()"
   ]
  },
  {
   "cell_type": "code",
   "execution_count": 279,
   "metadata": {
    "_cell_guid": "8b2ac302-012c-4217-82f9-a84dbd667a4c",
    "_uuid": "8d7e9bcaec1bd2b3926f4e2db1dcc553edc3cb9d"
   },
   "outputs": [
    {
     "name": "stdout",
     "output_type": "stream",
     "text": [
      "Pclass            0\n",
      "Sex               0\n",
      "Age               0\n",
      "Fare              0\n",
      "Embarked          0\n",
      "Family_members    0\n",
      "Is_alone          0\n",
      "Has_cabin         0\n",
      "Title             0\n",
      "dtype: int64\n"
     ]
    },
    {
     "data": {
      "text/html": [
       "<div>\n",
       "<style>\n",
       "    .dataframe thead tr:only-child th {\n",
       "        text-align: right;\n",
       "    }\n",
       "\n",
       "    .dataframe thead th {\n",
       "        text-align: left;\n",
       "    }\n",
       "\n",
       "    .dataframe tbody tr th {\n",
       "        vertical-align: top;\n",
       "    }\n",
       "</style>\n",
       "<table border=\"1\" class=\"dataframe\">\n",
       "  <thead>\n",
       "    <tr style=\"text-align: right;\">\n",
       "      <th></th>\n",
       "      <th>Pclass</th>\n",
       "      <th>Sex</th>\n",
       "      <th>Age</th>\n",
       "      <th>Fare</th>\n",
       "      <th>Embarked</th>\n",
       "      <th>Family_members</th>\n",
       "      <th>Is_alone</th>\n",
       "      <th>Has_cabin</th>\n",
       "      <th>Title</th>\n",
       "    </tr>\n",
       "    <tr>\n",
       "      <th>PassengerId</th>\n",
       "      <th></th>\n",
       "      <th></th>\n",
       "      <th></th>\n",
       "      <th></th>\n",
       "      <th></th>\n",
       "      <th></th>\n",
       "      <th></th>\n",
       "      <th></th>\n",
       "      <th></th>\n",
       "    </tr>\n",
       "  </thead>\n",
       "  <tbody>\n",
       "    <tr>\n",
       "      <th>892</th>\n",
       "      <td>3</td>\n",
       "      <td>1</td>\n",
       "      <td>34.5</td>\n",
       "      <td>7.8292</td>\n",
       "      <td>1</td>\n",
       "      <td>1</td>\n",
       "      <td>1</td>\n",
       "      <td>1</td>\n",
       "      <td>3</td>\n",
       "    </tr>\n",
       "    <tr>\n",
       "      <th>893</th>\n",
       "      <td>3</td>\n",
       "      <td>0</td>\n",
       "      <td>47.0</td>\n",
       "      <td>7.0000</td>\n",
       "      <td>2</td>\n",
       "      <td>2</td>\n",
       "      <td>0</td>\n",
       "      <td>1</td>\n",
       "      <td>4</td>\n",
       "    </tr>\n",
       "    <tr>\n",
       "      <th>894</th>\n",
       "      <td>2</td>\n",
       "      <td>1</td>\n",
       "      <td>62.0</td>\n",
       "      <td>9.6875</td>\n",
       "      <td>1</td>\n",
       "      <td>1</td>\n",
       "      <td>1</td>\n",
       "      <td>1</td>\n",
       "      <td>3</td>\n",
       "    </tr>\n",
       "    <tr>\n",
       "      <th>895</th>\n",
       "      <td>3</td>\n",
       "      <td>1</td>\n",
       "      <td>27.0</td>\n",
       "      <td>8.6625</td>\n",
       "      <td>2</td>\n",
       "      <td>1</td>\n",
       "      <td>1</td>\n",
       "      <td>1</td>\n",
       "      <td>3</td>\n",
       "    </tr>\n",
       "    <tr>\n",
       "      <th>896</th>\n",
       "      <td>3</td>\n",
       "      <td>0</td>\n",
       "      <td>22.0</td>\n",
       "      <td>12.2875</td>\n",
       "      <td>2</td>\n",
       "      <td>3</td>\n",
       "      <td>0</td>\n",
       "      <td>1</td>\n",
       "      <td>4</td>\n",
       "    </tr>\n",
       "  </tbody>\n",
       "</table>\n",
       "</div>"
      ],
      "text/plain": [
       "             Pclass  Sex   Age     Fare  Embarked  Family_members  Is_alone  \\\n",
       "PassengerId                                                                   \n",
       "892               3    1  34.5   7.8292         1               1         1   \n",
       "893               3    0  47.0   7.0000         2               2         0   \n",
       "894               2    1  62.0   9.6875         1               1         1   \n",
       "895               3    1  27.0   8.6625         2               1         1   \n",
       "896               3    0  22.0  12.2875         2               3         0   \n",
       "\n",
       "             Has_cabin  Title  \n",
       "PassengerId                    \n",
       "892                  1      3  \n",
       "893                  1      4  \n",
       "894                  1      3  \n",
       "895                  1      3  \n",
       "896                  1      4  "
      ]
     },
     "execution_count": 279,
     "metadata": {},
     "output_type": "execute_result"
    }
   ],
   "source": [
    "raw_test.drop(['Name', 'Ticket', 'Cabin', 'SibSp', 'Parch'], axis = 1, inplace = True)\n",
    "raw_test[\"Fare\"].fillna(raw_test[\"Fare\"].mean(), inplace=True)\n",
    "print(raw_test.isnull().sum())\n",
    "label_test = raw_test\n",
    "label_encoding(label_test)\n",
    "label_test.head()"
   ]
  },
  {
   "cell_type": "code",
   "execution_count": 280,
   "metadata": {
    "_cell_guid": "a3652b11-25d0-40a2-a50e-bfedc351d691",
    "_uuid": "cc0deda7265fc3d06e5eaa0820e3cd6d2ccb9a8c"
   },
   "outputs": [
    {
     "data": {
      "text/plain": [
       "<matplotlib.axes._subplots.AxesSubplot at 0x7f3dc8ab6dd8>"
      ]
     },
     "execution_count": 280,
     "metadata": {},
     "output_type": "execute_result"
    },
    {
     "data": {
      "image/png": "[encoded data removed]",
      "text/plain": [
       "<matplotlib.figure.Figure at 0x7f3dc8aa6198>"
      ]
     },
     "metadata": {},
     "output_type": "display_data"
    }
   ],
   "source": [
    "plt.figure(figsize = (15,15))\n",
    "sns.heatmap(label_train.corr(), linewidths = .5, annot= True, cmap=\"YlGnBu\")"
   ]
  },
  {
   "cell_type": "code",
   "execution_count": 281,
   "metadata": {
    "_cell_guid": "7415aed4-8e27-4b3d-b28d-d2ca921929f3",
    "_uuid": "43524483e92ab12e57bde15cc0a64a180662e139",
    "collapsed": true
   },
   "outputs": [],
   "source": [
    "x = label_train.drop('Survived', axis =1)\n",
    "y = label_train['Survived']\n",
    "x_label_train, x_label_test, y_label_train, y_label_test = train_test_split(x, y, test_size=0.20)"
   ]
  },
  {
   "cell_type": "code",
   "execution_count": 282,
   "metadata": {
    "_cell_guid": "61b31bbf-f3bd-43b3-ade9-c2cf5c145341",
    "_uuid": "82a133d00be50477f11b77976a0552dd1c34c845"
   },
   "outputs": [
    {
     "name": "stdout",
     "output_type": "stream",
     "text": [
      "LogisticRegression(C=1, class_weight=None, dual=False, fit_intercept=True,\n",
      "          intercept_scaling=1, max_iter=100, multi_class='ovr', n_jobs=1,\n",
      "          penalty='l2', random_state=None, solver='liblinear', tol=0.0001,\n",
      "          verbose=0, warm_start=False)\n"
     ]
    }
   ],
   "source": [
    "# Logistic Regressiom Model\n",
    "lr = LogisticRegression(C = 1)\n",
    "print(lr.fit(x_label_train, y_label_train))"
   ]
  },
  {
   "cell_type": "code",
   "execution_count": 283,
   "metadata": {
    "_cell_guid": "e984525b-3b53-4b84-9a76-482ccc68babc",
    "_uuid": "c6041510331c3f315728e5d602c9bd5d222b7a08"
   },
   "outputs": [
    {
     "name": "stdout",
     "output_type": "stream",
     "text": [
      "Accuracy of Logit Model on train: 0.793539325843\n",
      "Accuracy of Logit Model on test: 0.837988826816\n"
     ]
    }
   ],
   "source": [
    "print(\"Accuracy of Logit Model on train:\",accuracy_score(y_label_train, lr.predict(x_label_train)))\n",
    "print(\"Accuracy of Logit Model on test:\",accuracy_score(y_label_test, lr.predict(x_label_test)))"
   ]
  },
  {
   "cell_type": "code",
   "execution_count": 284,
   "metadata": {
    "_cell_guid": "f6a57858-b608-41cd-a60e-610e9a5df625",
    "_uuid": "e85dbd0b8c4bb9b964184b72abb200422497ed53"
   },
   "outputs": [
    {
     "name": "stdout",
     "output_type": "stream",
     "text": [
      "Cross Validation score : [ 0.78212291  0.79888268  0.78089888  0.78651685  0.8079096 ]\n",
      "Cross Validation Mean score : 0.79126618429\n"
     ]
    }
   ],
   "source": [
    "score_lr = cross_val_score(lr, x.values, y.values, cv=5)\n",
    "print(\"Cross Validation score : \" + str(score_lr))\n",
    "print(\"Cross Validation Mean score : \" + str(score_lr.mean()))"
   ]
  },
  {
   "cell_type": "code",
   "execution_count": 285,
   "metadata": {
    "_cell_guid": "b0ab3707-b8c7-436c-b6b1-1a41bf9521ab",
    "_uuid": "953b72bd1e6f3abce21200a3f1ad514e07f376e7"
   },
   "outputs": [
    {
     "name": "stdout",
     "output_type": "stream",
     "text": [
      "DecisionTreeClassifier(class_weight=None, criterion='entropy', max_depth=11,\n",
      "            max_features=None, max_leaf_nodes=None,\n",
      "            min_impurity_decrease=0.0, min_impurity_split=None,\n",
      "            min_samples_leaf=1, min_samples_split=2,\n",
      "            min_weight_fraction_leaf=0.0, presort=False, random_state=None,\n",
      "            splitter='best')\n"
     ]
    }
   ],
   "source": [
    "# Decision Tree Classifier Model\n",
    "tree = DecisionTreeClassifier(criterion = 'entropy', max_depth = 11)\n",
    "print(tree.fit(x_label_train, y_label_train))"
   ]
  },
  {
   "cell_type": "code",
   "execution_count": 286,
   "metadata": {
    "_cell_guid": "bcfa21ef-cc91-4fd7-bc58-a0d69ac58e41",
    "_uuid": "12ba4e0cf6de5dee499fde0a0b737a051ebc1f49"
   },
   "outputs": [
    {
     "name": "stdout",
     "output_type": "stream",
     "text": [
      "Accuracy of Decision Tree Model on train: 0.926966292135\n",
      "Accuracy of Decision Tree Model on test: 0.832402234637\n"
     ]
    }
   ],
   "source": [
    "print(\"Accuracy of Decision Tree Model on train:\",accuracy_score(y_label_train, tree.predict(x_label_train)))\n",
    "print(\"Accuracy of Decision Tree Model on test:\",accuracy_score(y_label_test, tree.predict(x_label_test)))"
   ]
  },
  {
   "cell_type": "code",
   "execution_count": 287,
   "metadata": {
    "_cell_guid": "d1dcd4e3-98af-49cf-910d-6f36064c46ec",
    "_uuid": "fcb048890494f20a4e7c3dd9bf801f1c0995ccde"
   },
   "outputs": [
    {
     "name": "stdout",
     "output_type": "stream",
     "text": [
      "Cross Validation score : [ 0.82122905  0.7877095   0.83146067  0.79775281  0.83615819]\n",
      "Cross Validation Mean score : 0.814862044544\n"
     ]
    }
   ],
   "source": [
    "score_tree = cross_val_score(tree, x.values, y.values, cv=5)\n",
    "print(\"Cross Validation score : \" + str(score_tree))\n",
    "print(\"Cross Validation Mean score : \" + str(score_tree.mean()))"
   ]
  },
  {
   "cell_type": "code",
   "execution_count": 288,
   "metadata": {
    "_cell_guid": "7b085099-ed69-4648-b955-5899d5a52b34",
    "_uuid": "1e55c086da53da646d683ea29850aad4ca40de75"
   },
   "outputs": [
    {
     "name": "stdout",
     "output_type": "stream",
     "text": [
      "RandomForestClassifier(bootstrap=True, class_weight=None, criterion='entropy',\n",
      "            max_depth=5, max_features='auto', max_leaf_nodes=None,\n",
      "            min_impurity_decrease=0.0, min_impurity_split=None,\n",
      "            min_samples_leaf=1, min_samples_split=3,\n",
      "            min_weight_fraction_leaf=0.0, n_estimators=1000, n_jobs=1,\n",
      "            oob_score=False, random_state=None, verbose=0,\n",
      "            warm_start=False)\n"
     ]
    }
   ],
   "source": [
    "# Random Forest Classifier Model\n",
    "forest = RandomForestClassifier(n_estimators = 1000, criterion = 'entropy', max_depth = 5, \n",
    "                                min_samples_split = 3)\n",
    "print(forest.fit(x_label_train, y_label_train))"
   ]
  },
  {
   "cell_type": "code",
   "execution_count": 289,
   "metadata": {
    "_cell_guid": "edbb755c-f5a8-4a2c-aea7-ade5a37f3150",
    "_uuid": "3da324459a9de6694d019003235ad1eafffb9ed5"
   },
   "outputs": [
    {
     "name": "stdout",
     "output_type": "stream",
     "text": [
      "Accuracy of Random Forest Model on train: 0.859550561798\n",
      "Accuracy of Random Forest Model on test: 0.849162011173\n"
     ]
    }
   ],
   "source": [
    "print(\"Accuracy of Random Forest Model on train:\",accuracy_score(y_label_train, forest.predict(x_label_train)))\n",
    "print(\"Accuracy of Random Forest Model on test:\",accuracy_score(y_label_test, forest.predict(x_label_test)))"
   ]
  },
  {
   "cell_type": "code",
   "execution_count": 322,
   "metadata": {
    "_uuid": "ee38bef4fcb61594d27c9e9310d1db6a52671fab"
   },
   "outputs": [
    {
     "data": {
      "text/plain": [
       "Text(33,0.5,'Actual')"
      ]
     },
     "execution_count": 322,
     "metadata": {},
     "output_type": "execute_result"
    },
    {
     "data": {
      "image/png": "[encoded data removed]",
      "text/plain": [
       "<matplotlib.figure.Figure at 0x7f3dc890b5c0>"
      ]
     },
     "metadata": {},
     "output_type": "display_data"
    }
   ],
   "source": [
    "# Using confusion matrix to validate the model\n",
    "conf = confusion_matrix(y_label_test, forest.predict(x_label_test))\n",
    "sns.heatmap(conf, linewidths = 0.5, annot=True)\n",
    "plt.xlabel('Predicted')\n",
    "plt.ylabel('Actual')"
   ]
  },
  {
   "cell_type": "code",
   "execution_count": 328,
   "metadata": {
    "_uuid": "c7274ba37afe4654f59e537e22b1a1d5fb5b4bff"
   },
   "outputs": [
    {
     "name": "stdout",
     "output_type": "stream",
     "text": [
      "[0 0 0 0 1 0 0 0 1 0 0 0 1 0 1 1 0 0 0 0 0 1 1 0 1 0 1 0 1 0 0 0 1 1 1 0 0\n",
      " 0 0 0 0 1 0 1 1 0 1 0 1 1 1 0 1 1 0 0 0 0 0 1 0 0 0 1 1 1 0 0 1 1 1 0 0 1\n",
      " 1 1 0 1 0 1 1 0 0 0 0 0 1 0 1 1 1 0 1 0 0 0 1 0 0 0 1 0 0 0 0 0 0 0 0 0 0\n",
      " 1 1 1 1 0 0 1 1 1 1 0 1 0 0 0 0 1 0 0 0 1 0 0 0 0 0 0 0 0 0 1 0 0 0 0 1 0\n",
      " 0 0 1 0 0 0 0 0 1 0 1 0 1 1 1 0 0 1 1 0 1 0 0 0 0 0 0 1 1 1 1 1 0 1 1 0 1\n",
      " 0 1 0 0 0 0 0 1 0 1 0 1 0 0 0 1 1 1 1 0 0 0 0 1 0 0 0 0 1 0 0 1 0 1 0 1 0\n",
      " 1 0 1 0 0 1 0 0 0 1 0 0 1 0 1 0 1 1 1 1 1 0 0 1 1 0 1 0 1 0 1 0 0 0 0 0 1\n",
      " 0 0 0 1 1 0 0 0 0 0 0 1 0 1 0 0 1 0 0 0 0 0 1 1 0 1 0 0 1 0 0 0 0 0 0 0 0\n",
      " 1 0 0 0 0 0 0 0 1 1 0 1 0 0 0 0 0 0 1 1 0 0 0 0 0 0 0 0 1 0 1 0 0 0 1 1 0\n",
      " 1 0 0 0 0 0 1 0 0 0 1 1 0 0 0 0 1 1 0 0 0 1 0 1 0 0 0 0 1 1 0 1 0 0 0 1 0\n",
      " 0 1 0 0 1 1 0 0 0 0 0 0 1 1 0 1 0 0 0 0 1 1 1 0 0 1 0 1 0 0 1 0 1 0 1 0 0\n",
      " 0 1 1 1 1 0 0 1 0 0 1]\n"
     ]
    }
   ],
   "source": [
    "print(forest.predict(label_test))\n",
    "forest_pred= pd.DataFrame({'PassengerId' : np.arange(892,1310), 'Survived': forest.predict(label_test)})"
   ]
  },
  {
   "cell_type": "code",
   "execution_count": 329,
   "metadata": {
    "_kg_hide-input": false,
    "_kg_hide-output": false,
    "_uuid": "e754b94a9a9b07d686042919c3e8f6f543b11b67"
   },
   "outputs": [],
   "source": [
    "forest_pred.to_csv('Titanic_Submission_Random_forrest.csv', index=False)"
   ]
  },
  {
   "cell_type": "code",
   "execution_count": 290,
   "metadata": {
    "_cell_guid": "fe887e0a-51e6-47f5-a3da-b783e94db2e6",
    "_uuid": "3a1eafd468477532fd8042e128e5b2f2d0f92a9b"
   },
   "outputs": [
    {
     "name": "stdout",
     "output_type": "stream",
     "text": [
      "Cross Validation score : [ 0.82681564  0.82122905  0.82022472  0.79775281  0.85310734]\n",
      "Cross Validation Mean score : 0.823825913092\n"
     ]
    }
   ],
   "source": [
    "score_forest = cross_val_score(forest, x.values, y.values, cv=5)\n",
    "print(\"Cross Validation score : \" + str(score_forest))\n",
    "print(\"Cross Validation Mean score : \" + str(score_forest.mean()))"
   ]
  },
  {
   "cell_type": "code",
   "execution_count": 291,
   "metadata": {
    "_cell_guid": "6294942f-21c6-4bda-813e-307ded470ed0",
    "_uuid": "d144f607d2db8a3b493f774fa56c2f928e7d0180"
   },
   "outputs": [
    {
     "name": "stdout",
     "output_type": "stream",
     "text": [
      "ExtraTreesClassifier(bootstrap=False, class_weight=None, criterion='entropy',\n",
      "           max_depth=5, max_features='auto', max_leaf_nodes=None,\n",
      "           min_impurity_decrease=0.0, min_impurity_split=None,\n",
      "           min_samples_leaf=1, min_samples_split=3,\n",
      "           min_weight_fraction_leaf=0.0, n_estimators=1000, n_jobs=1,\n",
      "           oob_score=False, random_state=None, verbose=0, warm_start=False)\n"
     ]
    }
   ],
   "source": [
    "# Extra Trees Classifier Model\n",
    "extra_tree = ExtraTreesClassifier(n_estimators = 1000, criterion = 'entropy', max_depth = 5, \n",
    "                                  min_samples_split = 3)\n",
    "print(extra_tree.fit(x_label_train, y_label_train))"
   ]
  },
  {
   "cell_type": "code",
   "execution_count": 292,
   "metadata": {
    "_cell_guid": "b8710387-b320-4dbd-bad3-abd5ec82c575",
    "_uuid": "c7a518b10d9d733302dbef92343f19f3d7042140"
   },
   "outputs": [
    {
     "name": "stdout",
     "output_type": "stream",
     "text": [
      "Accuracy of Extra Tree Model on train: 0.839887640449\n",
      "Accuracy of Extra Tree Model on test: 0.871508379888\n"
     ]
    }
   ],
   "source": [
    "print(\"Accuracy of Extra Tree Model on train:\",accuracy_score(y_label_train, extra_tree.predict(x_label_train)))\n",
    "print(\"Accuracy of Extra Tree Model on test:\",accuracy_score(y_label_test, extra_tree.predict(x_label_test)))"
   ]
  },
  {
   "cell_type": "code",
   "execution_count": 293,
   "metadata": {
    "_cell_guid": "54321db1-6a96-492e-adef-5c4ca4dd2e86",
    "_uuid": "c66de9b10614b4fd90305767e17430b27d6101f9"
   },
   "outputs": [
    {
     "name": "stdout",
     "output_type": "stream",
     "text": [
      "Cross Validation score : [ 0.83240223  0.81005587  0.8258427   0.79775281  0.85875706]\n",
      "Cross Validation Mean score : 0.824962133665\n"
     ]
    }
   ],
   "source": [
    "score_extra_tree = cross_val_score(extra_tree, x.values, y.values, cv=5)\n",
    "print(\"Cross Validation score : \" + str(score_extra_tree))\n",
    "print(\"Cross Validation Mean score : \" + str(score_extra_tree.mean()))"
   ]
  },
  {
   "cell_type": "code",
   "execution_count": 294,
   "metadata": {
    "_cell_guid": "5cebb3ad-47ec-4235-a66c-45e19e6160f8",
    "_uuid": "567548d773004b78dbf1c6c595f6df08a7603525"
   },
   "outputs": [
    {
     "name": "stdout",
     "output_type": "stream",
     "text": [
      "KNeighborsClassifier(algorithm='auto', leaf_size=30, metric='minkowski',\n",
      "           metric_params=None, n_jobs=1, n_neighbors=29, p=2,\n",
      "           weights='distance')\n"
     ]
    }
   ],
   "source": [
    "# KNN Model\n",
    "knn = KNeighborsClassifier(n_neighbors = 29, weights ='distance')\n",
    "print(knn.fit(x_label_train, y_label_train))"
   ]
  },
  {
   "cell_type": "code",
   "execution_count": 295,
   "metadata": {
    "_cell_guid": "a734fa5c-439a-4317-b323-aaa9ae9c0c6f",
    "_uuid": "337d425b8c33f21759011e37f6ee6c6fd02f7073"
   },
   "outputs": [
    {
     "name": "stdout",
     "output_type": "stream",
     "text": [
      "Accuracy of KNN Model on train: 0.98595505618\n",
      "Accuracy of KNN Model on test: 0.754189944134\n"
     ]
    }
   ],
   "source": [
    "print(\"Accuracy of KNN Model on train:\",accuracy_score(y_label_train, knn.predict(x_label_train)))\n",
    "print(\"Accuracy of KNN Model on test:\",accuracy_score(y_label_test, knn.predict(x_label_test)))"
   ]
  },
  {
   "cell_type": "code",
   "execution_count": 296,
   "metadata": {
    "_cell_guid": "95a76c05-b67a-4cc4-a6a6-f511f02ea682",
    "_uuid": "74a5f8da5070939ccb5ad4075d2081de367b0bcf"
   },
   "outputs": [
    {
     "name": "stdout",
     "output_type": "stream",
     "text": [
      "Cross Validation score : [ 0.63687151  0.75977654  0.74157303  0.73033708  0.76271186]\n",
      "Cross Validation Mean score : 0.726254004292\n"
     ]
    }
   ],
   "source": [
    "score_knn = cross_val_score(knn, x.values, y.values, cv=5)\n",
    "print(\"Cross Validation score : \" + str(score_knn))\n",
    "print(\"Cross Validation Mean score : \" + str(score_knn.mean()))"
   ]
  },
  {
   "cell_type": "code",
   "execution_count": 297,
   "metadata": {
    "_cell_guid": "4a7509b5-74f3-4b6f-bc9c-b1add86455a1",
    "_uuid": "66aad31637ab716f342391cba38526c67b4d6cd8"
   },
   "outputs": [
    {
     "name": "stdout",
     "output_type": "stream",
     "text": [
      "KNeighborsClassifier(algorithm='auto', leaf_size=30, metric='minkowski',\n",
      "           metric_params=None, n_jobs=1, n_neighbors=15, p=2,\n",
      "           weights='distance')\n",
      "Accuracy of KNN Model on train: 0.98595505618\n",
      "Accuracy of KNN Model on test: 0.759776536313\n"
     ]
    }
   ],
   "source": [
    "knn2 = KNeighborsClassifier(n_neighbors = 15, weights ='distance')\n",
    "print(knn2.fit(x_label_train, y_label_train))\n",
    "print(\"Accuracy of KNN Model on train:\",accuracy_score(y_label_train, knn2.predict(x_label_train)))\n",
    "print(\"Accuracy of KNN Model on test:\",accuracy_score(y_label_test, knn2.predict(x_label_test)))"
   ]
  },
  {
   "cell_type": "code",
   "execution_count": 298,
   "metadata": {
    "_cell_guid": "9d3613b7-2ef2-427e-bfd4-7707581c3020",
    "_uuid": "08472e2482adf9d73a26303f86032fcb97930380"
   },
   "outputs": [
    {
     "name": "stdout",
     "output_type": "stream",
     "text": [
      "Cross Validation score : [ 0.62569832  0.74860335  0.74157303  0.71348315  0.73446328]\n",
      "Cross Validation Mean score : 0.712764226518\n"
     ]
    }
   ],
   "source": [
    "score_knn2 = cross_val_score(knn2, x.values, y.values, cv=5)\n",
    "print(\"Cross Validation score : \" + str(score_knn2))\n",
    "print(\"Cross Validation Mean score : \" + str(score_knn2.mean()))"
   ]
  },
  {
   "cell_type": "code",
   "execution_count": 299,
   "metadata": {
    "_cell_guid": "8fa76149-628d-4afd-92b5-d6cabec669e1",
    "_uuid": "2e29a5ba68768bbb1eff575ffd0efa7d3365329d"
   },
   "outputs": [
    {
     "name": "stdout",
     "output_type": "stream",
     "text": [
      "SVC(C=1, cache_size=200, class_weight=None, coef0=0.0,\n",
      "  decision_function_shape='ovr', degree=3, gamma='auto', kernel='sigmoid',\n",
      "  max_iter=-1, probability=False, random_state=None, shrinking=True,\n",
      "  tol=0.001, verbose=False)\n"
     ]
    }
   ],
   "source": [
    "# SVM Model\n",
    "svc = SVC(C=1, kernel = 'sigmoid')\n",
    "print(svc.fit(x_label_train, y_label_train))"
   ]
  },
  {
   "cell_type": "code",
   "execution_count": 300,
   "metadata": {
    "_cell_guid": "3a0801e6-99d7-4390-a909-41ddccd6a2a6",
    "_uuid": "21baecb4804433827499fc47f1cd15c62283efd0"
   },
   "outputs": [
    {
     "name": "stdout",
     "output_type": "stream",
     "text": [
      "Accuracy of SVM Model on train: 0.613764044944\n",
      "Accuracy of SVM Model on test: 0.625698324022\n"
     ]
    }
   ],
   "source": [
    "print(\"Accuracy of SVM Model on train:\",accuracy_score(y_label_train, svc.predict(x_label_train)))\n",
    "print(\"Accuracy of SVM Model on test:\",accuracy_score(y_label_test, svc.predict(x_label_test)))"
   ]
  },
  {
   "cell_type": "code",
   "execution_count": 301,
   "metadata": {
    "_cell_guid": "7cbdeba0-c0b7-488b-9b45-1e4ca523eddf",
    "_uuid": "2b8abeb025874e4e36fb70a26d1362572e2660e7"
   },
   "outputs": [
    {
     "name": "stdout",
     "output_type": "stream",
     "text": [
      "Cross Validation score : [ 0.61452514  0.61452514  0.61797753  0.61797753  0.61581921]\n",
      "Cross Validation Mean score : 0.61616490891\n"
     ]
    }
   ],
   "source": [
    "score_svc = cross_val_score(svc, x.values, y.values, cv=5)\n",
    "print(\"Cross Validation score : \" + str(score_svc))\n",
    "print(\"Cross Validation Mean score : \" + str(score_svc.mean()))"
   ]
  },
  {
   "cell_type": "code",
   "execution_count": 302,
   "metadata": {
    "_cell_guid": "cd49cfe8-e5cb-42f5-a5fc-fa8219594af5",
    "_uuid": "317eba15c3d05e68ebf2a0c1a922a2ff10bce60d"
   },
   "outputs": [
    {
     "name": "stdout",
     "output_type": "stream",
     "text": [
      "AdaBoostClassifier(algorithm='SAMME.R', base_estimator=None,\n",
      "          learning_rate=0.1, n_estimators=50, random_state=None)\n"
     ]
    }
   ],
   "source": [
    "#Adaboost Model\n",
    "ada = AdaBoostClassifier(learning_rate = 0.1)\n",
    "print(ada.fit(x_label_train, y_label_train))"
   ]
  },
  {
   "cell_type": "code",
   "execution_count": 303,
   "metadata": {
    "_cell_guid": "ffafb773-6667-4c22-960f-19bd0691dd0e",
    "_uuid": "14786fe3b5349cc64a18cdf162f6c7aae2fba73a"
   },
   "outputs": [
    {
     "name": "stdout",
     "output_type": "stream",
     "text": [
      "Accuracy of SVM Model on train: 0.818820224719\n",
      "Accuracy of SVM Model on test: 0.849162011173\n"
     ]
    }
   ],
   "source": [
    "print(\"Accuracy of SVM Model on train:\",accuracy_score(y_label_train, ada.predict(x_label_train)))\n",
    "print(\"Accuracy of SVM Model on test:\",accuracy_score(y_label_test, ada.predict(x_label_test)))"
   ]
  },
  {
   "cell_type": "code",
   "execution_count": 304,
   "metadata": {
    "_cell_guid": "29e90430-dc68-4cef-abe5-08c4cf9a6318",
    "_uuid": "46fcc27f680486e87edff3f1220737f1afa2f625"
   },
   "outputs": [
    {
     "name": "stdout",
     "output_type": "stream",
     "text": [
      "Cross Validation score : [ 0.83798883  0.82122905  0.80898876  0.79775281  0.81920904]\n",
      "Cross Validation Mean score : 0.817033697935\n"
     ]
    }
   ],
   "source": [
    "score_ada = cross_val_score(ada, x.values, y.values, cv=5)\n",
    "print(\"Cross Validation score : \" + str(score_ada))\n",
    "print(\"Cross Validation Mean score : \" + str(score_ada.mean()))"
   ]
  },
  {
   "cell_type": "code",
   "execution_count": 305,
   "metadata": {
    "_cell_guid": "8e654c58-b828-4e59-93d4-662361694424",
    "_uuid": "68d5ddfc488f3d4dcb5611d5734a13a3d037435d"
   },
   "outputs": [
    {
     "name": "stdout",
     "output_type": "stream",
     "text": [
      "GradientBoostingClassifier(criterion='friedman_mse', init=None,\n",
      "              learning_rate=0.1, loss='deviance', max_depth=3,\n",
      "              max_features=None, max_leaf_nodes=None,\n",
      "              min_impurity_decrease=0.0, min_impurity_split=None,\n",
      "              min_samples_leaf=1, min_samples_split=2,\n",
      "              min_weight_fraction_leaf=0.0, n_estimators=100,\n",
      "              presort='auto', random_state=None, subsample=1.0, verbose=0,\n",
      "              warm_start=False)\n"
     ]
    }
   ],
   "source": [
    "# Gradient Boosting Algorithm\n",
    "gbc = GradientBoostingClassifier()\n",
    "print(gbc.fit(x_label_train, y_label_train))"
   ]
  },
  {
   "cell_type": "code",
   "execution_count": 306,
   "metadata": {
    "_cell_guid": "f1d9ec23-ea45-48bd-a7f6-7b29209a1f76",
    "_uuid": "2f1425f682bace1948c267a2e58e2a0360315cd6"
   },
   "outputs": [
    {
     "name": "stdout",
     "output_type": "stream",
     "text": [
      "Accuracy of GBC Model on train: 0.908707865169\n",
      "Accuracy of GBC Model on test: 0.843575418994\n"
     ]
    }
   ],
   "source": [
    "print(\"Accuracy of GBC Model on train:\",accuracy_score(y_label_train, gbc.predict(x_label_train)))\n",
    "print(\"Accuracy of GBC Model on test:\",accuracy_score(y_label_test, gbc.predict(x_label_test)))"
   ]
  },
  {
   "cell_type": "code",
   "execution_count": 307,
   "metadata": {
    "_cell_guid": "4a12a554-95b9-42d0-b0fd-a221aeb92eb5",
    "_uuid": "bd7742d2214f575dbc04e610454d7c56d7292f7d"
   },
   "outputs": [
    {
     "name": "stdout",
     "output_type": "stream",
     "text": [
      "Cross Validation score : [ 0.83240223  0.82122905  0.85955056  0.79775281  0.85875706]\n",
      "Cross Validation Mean score : 0.83393834357\n"
     ]
    }
   ],
   "source": [
    "score_gbc = cross_val_score(gbc, x.values, y.values, cv=5)\n",
    "print(\"Cross Validation score : \" + str(score_gbc))\n",
    "print(\"Cross Validation Mean score : \" + str(score_gbc.mean()))"
   ]
  },
  {
   "cell_type": "code",
   "execution_count": 325,
   "metadata": {
    "_uuid": "30f071cdeda691cf1daed2d26d47f506b1b21ae3"
   },
   "outputs": [
    {
     "data": {
      "text/plain": [
       "Text(33,0.5,'Actual')"
      ]
     },
     "execution_count": 325,
     "metadata": {},
     "output_type": "execute_result"
    },
    {
     "data": {
      "image/png": "[encoded data removed]",
      "text/plain": [
       "<matplotlib.figure.Figure at 0x7f3dc87c9588>"
      ]
     },
     "metadata": {},
     "output_type": "display_data"
    }
   ],
   "source": [
    "conf = confusion_matrix(y_label_test, gbc.predict(x_label_test))\n",
    "sns.heatmap(conf, linewidths = 0.5, annot=True)\n",
    "plt.xlabel('Predicted')\n",
    "plt.ylabel('Actual')"
   ]
  },
  {
   "cell_type": "code",
   "execution_count": 308,
   "metadata": {
    "_uuid": "f4eb2d58bf95d94e926859f4d6f79e69cc40c4c4"
   },
   "outputs": [
    {
     "data": {
      "text/plain": [
       "array([0, 0, 0, 0, 0, 0, 0, 0, 1, 0, 0, 0, 1, 0, 1, 1, 0, 0, 1, 0, 0, 0, 1,\n",
       "       0, 1, 0, 1, 0, 1, 0, 0, 0, 1, 0, 1, 0, 0, 0, 0, 0, 0, 1, 0, 1, 1, 0,\n",
       "       0, 0, 1, 1, 0, 0, 1, 1, 0, 0, 0, 0, 0, 1, 0, 0, 0, 1, 0, 1, 1, 0, 0,\n",
       "       1, 1, 0, 1, 1, 1, 0, 0, 1, 0, 1, 1, 0, 0, 0, 0, 0, 1, 0, 1, 1, 1, 0,\n",
       "       1, 0, 0, 0, 1, 0, 0, 0, 1, 0, 0, 0, 1, 0, 0, 0, 0, 0, 0, 1, 1, 1, 1,\n",
       "       0, 0, 1, 1, 1, 1, 0, 1, 0, 0, 0, 0, 1, 0, 0, 0, 0, 0, 0, 0, 0, 0, 0,\n",
       "       0, 0, 0, 1, 0, 0, 0, 0, 0, 0, 0, 0, 1, 0, 0, 0, 0, 0, 1, 0, 1, 0, 1,\n",
       "       1, 1, 0, 0, 0, 0, 0, 1, 0, 0, 0, 0, 0, 0, 1, 1, 0, 1, 1, 0, 1, 1, 0,\n",
       "       1, 0, 1, 0, 0, 0, 0, 0, 1, 0, 1, 0, 1, 0, 0, 1, 1, 1, 0, 1, 0, 0, 0,\n",
       "       0, 1, 0, 0, 0, 0, 1, 0, 0, 1, 0, 1, 0, 1, 0, 1, 0, 1, 0, 0, 1, 0, 0,\n",
       "       0, 1, 0, 0, 1, 0, 0, 0, 1, 1, 1, 1, 1, 0, 1, 0, 1, 0, 1, 0, 1, 0, 0,\n",
       "       0, 0, 0, 0, 0, 1, 0, 0, 0, 1, 1, 0, 0, 0, 0, 0, 0, 1, 0, 1, 1, 0, 1,\n",
       "       0, 0, 0, 0, 0, 1, 1, 0, 1, 0, 0, 1, 0, 0, 0, 1, 0, 0, 0, 0, 1, 0, 0,\n",
       "       0, 0, 0, 0, 0, 1, 1, 0, 1, 0, 0, 0, 0, 0, 0, 1, 1, 0, 0, 0, 0, 0, 0,\n",
       "       0, 0, 1, 0, 1, 0, 0, 0, 1, 0, 0, 1, 0, 0, 0, 0, 0, 1, 0, 0, 0, 1, 1,\n",
       "       1, 0, 0, 0, 1, 1, 0, 0, 0, 1, 0, 1, 0, 0, 0, 0, 1, 1, 0, 1, 0, 0, 0,\n",
       "       1, 0, 0, 1, 0, 0, 1, 1, 0, 0, 0, 1, 0, 0, 0, 1, 0, 1, 0, 0, 0, 0, 1,\n",
       "       1, 1, 0, 0, 1, 0, 1, 0, 0, 1, 0, 1, 0, 0, 1, 0, 0, 1, 1, 1, 1, 0, 0,\n",
       "       1, 0, 0, 1])"
      ]
     },
     "execution_count": 308,
     "metadata": {},
     "output_type": "execute_result"
    }
   ],
   "source": [
    "#Predicting the test_label model on Gradient Boosting Model\n",
    "gbc.predict(label_test)"
   ]
  },
  {
   "cell_type": "code",
   "execution_count": 309,
   "metadata": {
    "_cell_guid": "66024a0f-e994-4ae3-b657-868da08c7dc3",
    "_uuid": "92020e04c5a335460163373395f3f51d4a79e8bc",
    "collapsed": true
   },
   "outputs": [],
   "source": [
    "# Making another set of models based on dummy encoding of the dataset\n",
    "dummy_train = raw_train\n",
    "dummy_test = raw_test"
   ]
  },
  {
   "cell_type": "code",
   "execution_count": 310,
   "metadata": {
    "_uuid": "11ed046a8391b7ddd180a11ea91f58dee1a633c7"
   },
   "outputs": [
    {
     "data": {
      "text/html": [
       "<div>\n",
       "<style>\n",
       "    .dataframe thead tr:only-child th {\n",
       "        text-align: right;\n",
       "    }\n",
       "\n",
       "    .dataframe thead th {\n",
       "        text-align: left;\n",
       "    }\n",
       "\n",
       "    .dataframe tbody tr th {\n",
       "        vertical-align: top;\n",
       "    }\n",
       "</style>\n",
       "<table border=\"1\" class=\"dataframe\">\n",
       "  <thead>\n",
       "    <tr style=\"text-align: right;\">\n",
       "      <th></th>\n",
       "      <th>Survived</th>\n",
       "      <th>Pclass</th>\n",
       "      <th>Sex</th>\n",
       "      <th>Age</th>\n",
       "      <th>Fare</th>\n",
       "      <th>Embarked</th>\n",
       "      <th>Family_members</th>\n",
       "      <th>Is_alone</th>\n",
       "      <th>Has_cabin</th>\n",
       "      <th>Title</th>\n",
       "    </tr>\n",
       "    <tr>\n",
       "      <th>PassengerId</th>\n",
       "      <th></th>\n",
       "      <th></th>\n",
       "      <th></th>\n",
       "      <th></th>\n",
       "      <th></th>\n",
       "      <th></th>\n",
       "      <th></th>\n",
       "      <th></th>\n",
       "      <th></th>\n",
       "      <th></th>\n",
       "    </tr>\n",
       "  </thead>\n",
       "  <tbody>\n",
       "    <tr>\n",
       "      <th>1</th>\n",
       "      <td>0</td>\n",
       "      <td>3</td>\n",
       "      <td>1</td>\n",
       "      <td>22.0</td>\n",
       "      <td>7.2500</td>\n",
       "      <td>2</td>\n",
       "      <td>2</td>\n",
       "      <td>0</td>\n",
       "      <td>1</td>\n",
       "      <td>2</td>\n",
       "    </tr>\n",
       "    <tr>\n",
       "      <th>2</th>\n",
       "      <td>1</td>\n",
       "      <td>1</td>\n",
       "      <td>0</td>\n",
       "      <td>38.0</td>\n",
       "      <td>71.2833</td>\n",
       "      <td>0</td>\n",
       "      <td>2</td>\n",
       "      <td>0</td>\n",
       "      <td>0</td>\n",
       "      <td>3</td>\n",
       "    </tr>\n",
       "    <tr>\n",
       "      <th>3</th>\n",
       "      <td>1</td>\n",
       "      <td>3</td>\n",
       "      <td>0</td>\n",
       "      <td>26.0</td>\n",
       "      <td>7.9250</td>\n",
       "      <td>2</td>\n",
       "      <td>1</td>\n",
       "      <td>1</td>\n",
       "      <td>1</td>\n",
       "      <td>1</td>\n",
       "    </tr>\n",
       "    <tr>\n",
       "      <th>4</th>\n",
       "      <td>1</td>\n",
       "      <td>1</td>\n",
       "      <td>0</td>\n",
       "      <td>35.0</td>\n",
       "      <td>53.1000</td>\n",
       "      <td>2</td>\n",
       "      <td>2</td>\n",
       "      <td>0</td>\n",
       "      <td>0</td>\n",
       "      <td>3</td>\n",
       "    </tr>\n",
       "    <tr>\n",
       "      <th>5</th>\n",
       "      <td>0</td>\n",
       "      <td>3</td>\n",
       "      <td>1</td>\n",
       "      <td>35.0</td>\n",
       "      <td>8.0500</td>\n",
       "      <td>2</td>\n",
       "      <td>1</td>\n",
       "      <td>1</td>\n",
       "      <td>1</td>\n",
       "      <td>2</td>\n",
       "    </tr>\n",
       "  </tbody>\n",
       "</table>\n",
       "</div>"
      ],
      "text/plain": [
       "             Survived  Pclass  Sex   Age     Fare  Embarked  Family_members  \\\n",
       "PassengerId                                                                   \n",
       "1                   0       3    1  22.0   7.2500         2               2   \n",
       "2                   1       1    0  38.0  71.2833         0               2   \n",
       "3                   1       3    0  26.0   7.9250         2               1   \n",
       "4                   1       1    0  35.0  53.1000         2               2   \n",
       "5                   0       3    1  35.0   8.0500         2               1   \n",
       "\n",
       "             Is_alone  Has_cabin  Title  \n",
       "PassengerId                              \n",
       "1                   0          1      2  \n",
       "2                   0          0      3  \n",
       "3                   1          1      1  \n",
       "4                   0          0      3  \n",
       "5                   1          1      2  "
      ]
     },
     "execution_count": 310,
     "metadata": {},
     "output_type": "execute_result"
    }
   ],
   "source": [
    "dummy_train.head()"
   ]
  },
  {
   "cell_type": "code",
   "execution_count": 311,
   "metadata": {
    "_uuid": "ff0113af51499bde076a7bb10d22aa8f58478989"
   },
   "outputs": [],
   "source": [
    "pclass_dummy = pd.get_dummies(dummy_train.Pclass, prefix = 'Pclass')\n",
    "pclass_dummy.drop(pclass_dummy.columns[0], axis=1, inplace=True)\n",
    "\n",
    "embarked_dummy = pd.get_dummies(dummy_train.Embarked, prefix = 'Embarked')\n",
    "embarked_dummy.drop(embarked_dummy.columns[0], axis=1, inplace=True)\n",
    "\n",
    "family_dummy = pd.get_dummies(dummy_train.Family_members, prefix = 'Family_members')\n",
    "family_dummy.drop(family_dummy.columns[0], axis=1, inplace=True)\n",
    "\n",
    "title_dummy = pd.get_dummies(dummy_train.Pclass, prefix = 'Title')\n",
    "title_dummy.drop(title_dummy.columns[0], axis=1, inplace=True)\n",
    "\n",
    "dummy_train = pd.concat([dummy_train, pclass_dummy, embarked_dummy, title_dummy], axis=1)\n",
    "dummy_train.drop(['Pclass', 'Embarked', 'Family_members', 'Title'], axis = 1, inplace= True)"
   ]
  },
  {
   "cell_type": "code",
   "execution_count": 312,
   "metadata": {
    "_uuid": "a36fa8c63a839c98d55d38d0226daf38167505ad"
   },
   "outputs": [
    {
     "data": {
      "text/html": [
       "<div>\n",
       "<style>\n",
       "    .dataframe thead tr:only-child th {\n",
       "        text-align: right;\n",
       "    }\n",
       "\n",
       "    .dataframe thead th {\n",
       "        text-align: left;\n",
       "    }\n",
       "\n",
       "    .dataframe tbody tr th {\n",
       "        vertical-align: top;\n",
       "    }\n",
       "</style>\n",
       "<table border=\"1\" class=\"dataframe\">\n",
       "  <thead>\n",
       "    <tr style=\"text-align: right;\">\n",
       "      <th></th>\n",
       "      <th>Survived</th>\n",
       "      <th>Sex</th>\n",
       "      <th>Age</th>\n",
       "      <th>Fare</th>\n",
       "      <th>Is_alone</th>\n",
       "      <th>Has_cabin</th>\n",
       "      <th>Pclass_2</th>\n",
       "      <th>Pclass_3</th>\n",
       "      <th>Embarked_1</th>\n",
       "      <th>Embarked_2</th>\n",
       "      <th>Title_2</th>\n",
       "      <th>Title_3</th>\n",
       "    </tr>\n",
       "    <tr>\n",
       "      <th>PassengerId</th>\n",
       "      <th></th>\n",
       "      <th></th>\n",
       "      <th></th>\n",
       "      <th></th>\n",
       "      <th></th>\n",
       "      <th></th>\n",
       "      <th></th>\n",
       "      <th></th>\n",
       "      <th></th>\n",
       "      <th></th>\n",
       "      <th></th>\n",
       "      <th></th>\n",
       "    </tr>\n",
       "  </thead>\n",
       "  <tbody>\n",
       "    <tr>\n",
       "      <th>1</th>\n",
       "      <td>0</td>\n",
       "      <td>1</td>\n",
       "      <td>22.0</td>\n",
       "      <td>7.2500</td>\n",
       "      <td>0</td>\n",
       "      <td>1</td>\n",
       "      <td>0</td>\n",
       "      <td>1</td>\n",
       "      <td>0</td>\n",
       "      <td>1</td>\n",
       "      <td>0</td>\n",
       "      <td>1</td>\n",
       "    </tr>\n",
       "    <tr>\n",
       "      <th>2</th>\n",
       "      <td>1</td>\n",
       "      <td>0</td>\n",
       "      <td>38.0</td>\n",
       "      <td>71.2833</td>\n",
       "      <td>0</td>\n",
       "      <td>0</td>\n",
       "      <td>0</td>\n",
       "      <td>0</td>\n",
       "      <td>0</td>\n",
       "      <td>0</td>\n",
       "      <td>0</td>\n",
       "      <td>0</td>\n",
       "    </tr>\n",
       "    <tr>\n",
       "      <th>3</th>\n",
       "      <td>1</td>\n",
       "      <td>0</td>\n",
       "      <td>26.0</td>\n",
       "      <td>7.9250</td>\n",
       "      <td>1</td>\n",
       "      <td>1</td>\n",
       "      <td>0</td>\n",
       "      <td>1</td>\n",
       "      <td>0</td>\n",
       "      <td>1</td>\n",
       "      <td>0</td>\n",
       "      <td>1</td>\n",
       "    </tr>\n",
       "    <tr>\n",
       "      <th>4</th>\n",
       "      <td>1</td>\n",
       "      <td>0</td>\n",
       "      <td>35.0</td>\n",
       "      <td>53.1000</td>\n",
       "      <td>0</td>\n",
       "      <td>0</td>\n",
       "      <td>0</td>\n",
       "      <td>0</td>\n",
       "      <td>0</td>\n",
       "      <td>1</td>\n",
       "      <td>0</td>\n",
       "      <td>0</td>\n",
       "    </tr>\n",
       "    <tr>\n",
       "      <th>5</th>\n",
       "      <td>0</td>\n",
       "      <td>1</td>\n",
       "      <td>35.0</td>\n",
       "      <td>8.0500</td>\n",
       "      <td>1</td>\n",
       "      <td>1</td>\n",
       "      <td>0</td>\n",
       "      <td>1</td>\n",
       "      <td>0</td>\n",
       "      <td>1</td>\n",
       "      <td>0</td>\n",
       "      <td>1</td>\n",
       "    </tr>\n",
       "  </tbody>\n",
       "</table>\n",
       "</div>"
      ],
      "text/plain": [
       "             Survived  Sex   Age     Fare  Is_alone  Has_cabin  Pclass_2  \\\n",
       "PassengerId                                                                \n",
       "1                   0    1  22.0   7.2500         0          1         0   \n",
       "2                   1    0  38.0  71.2833         0          0         0   \n",
       "3                   1    0  26.0   7.9250         1          1         0   \n",
       "4                   1    0  35.0  53.1000         0          0         0   \n",
       "5                   0    1  35.0   8.0500         1          1         0   \n",
       "\n",
       "             Pclass_3  Embarked_1  Embarked_2  Title_2  Title_3  \n",
       "PassengerId                                                      \n",
       "1                   1           0           1        0        1  \n",
       "2                   0           0           0        0        0  \n",
       "3                   1           0           1        0        1  \n",
       "4                   0           0           1        0        0  \n",
       "5                   1           0           1        0        1  "
      ]
     },
     "execution_count": 312,
     "metadata": {},
     "output_type": "execute_result"
    }
   ],
   "source": [
    "dummy_train.head()"
   ]
  },
  {
   "cell_type": "code",
   "execution_count": 313,
   "metadata": {
    "_uuid": "b26b0c8b01b9f775b5537dd954677155e62bd42f"
   },
   "outputs": [],
   "source": [
    "# Train_test_split on dummy model\n",
    "x_dummy = dummy_train.drop('Survived', axis = 1)\n",
    "y_dummy = dummy_train.Survived\n",
    "x_dummy_train, x_dummy_test, y_dummy_train, y_dummy_test = train_test_split(x_dummy, y_dummy, test_size = 0.3)"
   ]
  },
  {
   "cell_type": "code",
   "execution_count": 314,
   "metadata": {
    "_uuid": "9230100c918c1bdf72aed04ef64318ae9ef5a9f6"
   },
   "outputs": [
    {
     "name": "stdout",
     "output_type": "stream",
     "text": [
      "Accuracy of Logit Model on dummy_train: 0.791332263242\n",
      "Accuracy of Logit Model on dummy_test: 0.850746268657\n",
      "Cross Validation score : [ 0.79888268  0.80446927  0.80337079  0.78089888  0.83050847]\n",
      "Cross Validation Mean score : 0.803626018561\n"
     ]
    }
   ],
   "source": [
    "# Logistic Regression Model on dummy model\n",
    "lr_dummy = LogisticRegression(C=1)\n",
    "lr_dummy.fit(x_dummy_train, y_dummy_train)\n",
    "print(\"Accuracy of Logit Model on dummy_train:\",accuracy_score(y_dummy_train, lr_dummy.predict(x_dummy_train)))\n",
    "print(\"Accuracy of Logit Model on dummy_test:\",accuracy_score(y_dummy_test, lr_dummy.predict(x_dummy_test)))\n",
    "\n",
    "score_lr_dummy = cross_val_score(lr_dummy, x_dummy.values, y_dummy.values, cv=5)\n",
    "print(\"Cross Validation score : \" + str(score_lr_dummy))\n",
    "print(\"Cross Validation Mean score : \" + str(score_lr_dummy.mean()))"
   ]
  },
  {
   "cell_type": "code",
   "execution_count": 315,
   "metadata": {
    "_uuid": "f8977a1f51fcbde16a8d5defcf8f3f94e0e3f042"
   },
   "outputs": [
    {
     "name": "stdout",
     "output_type": "stream",
     "text": [
      "Accuracy of Logit Model on dummy_train: 0.950240770465\n",
      "Accuracy of Logit Model on dummy_test: 0.791044776119\n",
      "Cross Validation score : [ 0.79888268  0.79888268  0.83146067  0.79213483  0.84180791]\n",
      "Cross Validation Mean score : 0.81263375567\n"
     ]
    }
   ],
   "source": [
    "# Decision Tree Model for Dummy dataset\n",
    "tree_dummy = DecisionTreeClassifier(criterion = 'entropy', max_depth = 11)\n",
    "tree_dummy.fit(x_dummy_train, y_dummy_train)\n",
    "print(\"Accuracy of Logit Model on dummy_train:\",accuracy_score(y_dummy_train, tree_dummy.predict(x_dummy_train)))\n",
    "print(\"Accuracy of Logit Model on dummy_test:\",accuracy_score(y_dummy_test, tree_dummy.predict(x_dummy_test)))\n",
    "\n",
    "score_tree_dummy = cross_val_score(tree_dummy, x_dummy.values, y_dummy.values, cv=5)\n",
    "print(\"Cross Validation score : \" + str(score_tree_dummy))\n",
    "print(\"Cross Validation Mean score : \" + str(score_tree_dummy.mean()))"
   ]
  },
  {
   "cell_type": "code",
   "execution_count": 316,
   "metadata": {
    "_uuid": "70c5173a5aab68dfe278d23f6d9083cb70feedb1"
   },
   "outputs": [
    {
     "name": "stdout",
     "output_type": "stream",
     "text": [
      "Accuracy of Logit Model on dummy_train: 0.85393258427\n",
      "Accuracy of Logit Model on dummy_test: 0.835820895522\n",
      "Cross Validation score : [ 0.7877095   0.80446927  0.86516854  0.79213483  0.84180791]\n",
      "Cross Validation Mean score : 0.818258010268\n"
     ]
    }
   ],
   "source": [
    "# Random Forest Model for dummy dataset\n",
    "forest_dummy = RandomForestClassifier(criterion = 'entropy', n_estimators = 1000, max_depth = 5,\n",
    "                                     min_samples_split = 3)\n",
    "forest_dummy.fit(x_dummy_train, y_dummy_train)\n",
    "print(\"Accuracy of Logit Model on dummy_train:\",accuracy_score(y_dummy_train, forest_dummy.predict(x_dummy_train)))\n",
    "print(\"Accuracy of Logit Model on dummy_test:\",accuracy_score(y_dummy_test, forest_dummy.predict(x_dummy_test)))\n",
    "\n",
    "score_forest_dummy = cross_val_score(forest_dummy, x_dummy.values, y_dummy.values, cv=5)\n",
    "print(\"Cross Validation score : \" + str(score_forest_dummy))\n",
    "print(\"Cross Validation Mean score : \" + str(score_forest_dummy.mean()))"
   ]
  },
  {
   "cell_type": "code",
   "execution_count": 317,
   "metadata": {
    "_uuid": "846f4246254d5fc11b4d0f1e5e927a2387aa1355"
   },
   "outputs": [
    {
     "name": "stdout",
     "output_type": "stream",
     "text": [
      "Accuracy of Logit Model on dummy_train: 0.823434991974\n",
      "Accuracy of Logit Model on dummy_test: 0.84328358209\n",
      "Cross Validation score : [ 0.77094972  0.81005587  0.85393258  0.78651685  0.82485876]\n",
      "Cross Validation Mean score : 0.809262756371\n"
     ]
    }
   ],
   "source": [
    "# Extra Trees Model for the dummy dataset\n",
    "extra_dummy = ExtraTreesClassifier(criterion = 'entropy', n_estimators = 1000, max_depth = 5,\n",
    "                                     min_samples_split = 3)\n",
    "extra_dummy.fit(x_dummy_train, y_dummy_train)\n",
    "print(\"Accuracy of Logit Model on dummy_train:\",accuracy_score(y_dummy_train, extra_dummy.predict(x_dummy_train)))\n",
    "print(\"Accuracy of Logit Model on dummy_test:\",accuracy_score(y_dummy_test, extra_dummy.predict(x_dummy_test)))\n",
    "\n",
    "score_extra_dummy = cross_val_score(extra_dummy, x_dummy.values, y_dummy.values, cv=5)\n",
    "print(\"Cross Validation score : \" + str(score_extra_dummy))\n",
    "print(\"Cross Validation Mean score : \" + str(score_extra_dummy.mean()))\n"
   ]
  },
  {
   "cell_type": "code",
   "execution_count": 318,
   "metadata": {
    "_uuid": "cea223e3b0c5db1d74fc18e277d5f744b959bac3"
   },
   "outputs": [
    {
     "name": "stdout",
     "output_type": "stream",
     "text": [
      "Accuracy of Logit Model on dummy_train: 0.982343499197\n",
      "Accuracy of Logit Model on dummy_test: 0.701492537313\n",
      "Cross Validation score : [ 0.62569832  0.74860335  0.74157303  0.71348315  0.74011299]\n",
      "Cross Validation Mean score : 0.713894170021\n"
     ]
    }
   ],
   "source": [
    "#KNN Model for the dummy model\n",
    "knn_dummy= KNeighborsClassifier(n_neighbors = 29, weights = 'distance')\n",
    "knn_dummy.fit(x_dummy_train, y_dummy_train)\n",
    "print(\"Accuracy of Logit Model on dummy_train:\",accuracy_score(y_dummy_train, knn_dummy.predict(x_dummy_train)))\n",
    "print(\"Accuracy of Logit Model on dummy_test:\",accuracy_score(y_dummy_test, knn_dummy.predict(x_dummy_test)))\n",
    "\n",
    "score_knn_dummy = cross_val_score(knn_dummy, x_dummy.values, y_dummy.values, cv=5)\n",
    "print(\"Cross Validation score : \" + str(score_knn_dummy))\n",
    "print(\"Cross Validation Mean score : \" + str(score_knn_dummy.mean()))"
   ]
  },
  {
   "cell_type": "code",
   "execution_count": 319,
   "metadata": {
    "_uuid": "b78f68e9855237dca933574e2c6fba82fa42279f"
   },
   "outputs": [
    {
     "name": "stdout",
     "output_type": "stream",
     "text": [
      "Accuracy of Logit Model on dummy_train: 0.619582664526\n",
      "Accuracy of Logit Model on dummy_test: 0.608208955224\n",
      "Cross Validation score : [ 0.61452514  0.61452514  0.61797753  0.61797753  0.61581921]\n",
      "Cross Validation Mean score : 0.61616490891\n"
     ]
    }
   ],
   "source": [
    "#SVC Model for the dummy model\n",
    "svc_dummy = SVC(C = 1, kernel = 'sigmoid')\n",
    "svc_dummy.fit(x_dummy_train, y_dummy_train)\n",
    "print(\"Accuracy of Logit Model on dummy_train:\",accuracy_score(y_dummy_train, svc_dummy.predict(x_dummy_train)))\n",
    "print(\"Accuracy of Logit Model on dummy_test:\",accuracy_score(y_dummy_test, svc_dummy.predict(x_dummy_test)))\n",
    "\n",
    "score_svc_dummy = cross_val_score(svc_dummy, x_dummy.values, y_dummy.values, cv=5)\n",
    "print(\"Cross Validation score : \" + str(score_svc_dummy))\n",
    "print(\"Cross Validation Mean score : \" + str(score_svc_dummy.mean()))"
   ]
  },
  {
   "cell_type": "code",
   "execution_count": null,
   "metadata": {
    "_uuid": "4d2be6f39a5d26cf880738280ef111b564827e25",
    "collapsed": true
   },
   "outputs": [],
   "source": []
  }
 ],
 "metadata": {
  "kernelspec": {
   "display_name": "Python 3",
   "language": "python",
   "name": "python3"
  },
  "language_info": {
   "codemirror_mode": {
    "name": "ipython",
    "version": 3
   },
   "file_extension": ".py",
   "mimetype": "text/x-python",
   "name": "python",
   "nbconvert_exporter": "python",
   "pygments_lexer": "ipython3",
   "version": "3.6.3"
  }
 },
 "nbformat": 4,
 "nbformat_minor": 1
}
